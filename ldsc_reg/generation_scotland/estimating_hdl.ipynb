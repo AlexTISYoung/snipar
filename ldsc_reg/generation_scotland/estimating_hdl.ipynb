{
 "cells": [
  {
   "cell_type": "code",
   "execution_count": 1,
   "metadata": {},
   "outputs": [],
   "source": [
    "import numpy as np\n",
    "import h5py\n",
    "import glob\n",
    "import datetime\n",
    "import matplotlib.pyplot as plt\n",
    "import pandas as pd\n",
    "import logging\n",
    "\n",
    "\n",
    "import sys\n",
    "import os\n",
    "sys.path.append(os.getcwd() + '/..')\n",
    "import sib_ldsc_z as ld"
   ]
  },
  {
   "cell_type": "code",
   "execution_count": 69,
   "metadata": {},
   "outputs": [
    {
     "ename": "IndexError",
     "evalue": "index 0 is out of bounds for axis 0 with size 0",
     "output_type": "error",
     "traceback": [
      "\u001b[0;31m-------------------------------------------------------------\u001b[0m",
      "\u001b[0;31mIndexError\u001b[0m                  Traceback (most recent call last)",
      "\u001b[0;32m<ipython-input-69-b70cfd6c7b2b>\u001b[0m in \u001b[0;36m<module>\u001b[0;34m\u001b[0m\n\u001b[1;32m      7\u001b[0m \u001b[0;34m\u001b[0m\u001b[0m\n\u001b[1;32m      8\u001b[0m \u001b[0mtraitcode\u001b[0m \u001b[0;34m=\u001b[0m \u001b[0;36m7\u001b[0m\u001b[0;34m\u001b[0m\u001b[0;34m\u001b[0m\u001b[0m\n\u001b[0;32m----> 9\u001b[0;31m \u001b[0mtraitname\u001b[0m \u001b[0;34m=\u001b[0m \u001b[0mtraitcodes\u001b[0m\u001b[0;34m.\u001b[0m\u001b[0mloc\u001b[0m\u001b[0;34m[\u001b[0m\u001b[0mtraitcodes\u001b[0m\u001b[0;34m[\u001b[0m\u001b[0;34m'traitcode'\u001b[0m\u001b[0;34m]\u001b[0m \u001b[0;34m==\u001b[0m \u001b[0mtraitcode\u001b[0m\u001b[0;34m,\u001b[0m \u001b[0;34m'trait'\u001b[0m\u001b[0;34m]\u001b[0m\u001b[0;34m.\u001b[0m\u001b[0mvalues\u001b[0m\u001b[0;34m[\u001b[0m\u001b[0;36m0\u001b[0m\u001b[0;34m]\u001b[0m\u001b[0;34m\u001b[0m\u001b[0;34m\u001b[0m\u001b[0m\n\u001b[0m\u001b[1;32m     10\u001b[0m \u001b[0mprint\u001b[0m\u001b[0;34m(\u001b[0m\u001b[0mtraitname\u001b[0m\u001b[0;34m)\u001b[0m\u001b[0;34m\u001b[0m\u001b[0;34m\u001b[0m\u001b[0m\n",
      "\u001b[0;31mIndexError\u001b[0m: index 0 is out of bounds for axis 0 with size 0"
     ]
    }
   ],
   "source": [
    "traitnos = glob.glob(\"/disk/genetics/ukb/alextisyoung/GS20k_sumstats/traits/*/\")\n",
    "traitnos = [int(i[-3:-1].strip('/')) for i in traitnos]\n",
    "\n",
    "traitcodes = pd.read_csv(\"/disk/genetics/ukb/alextisyoung/GS20k_sumstats/traits/traits.txt\", \n",
    "            names = ['traitcode', 'trait'], \n",
    "            sep = ' ')\n",
    "            \n",
    "traitcode = 7\n",
    "traitname = traitcodes.loc[traitcodes['traitcode'] == traitcode, 'trait'].values[0]\n",
    "print(traitname)"
   ]
  },
  {
   "cell_type": "code",
   "execution_count": 70,
   "metadata": {},
   "outputs": [
    {
     "name": "stdout",
     "output_type": "stream",
     "text": [
      "=====================================\n",
      "Reading in Data\n",
      "=====================================\n",
      "Reading in file:  /disk/genetics/ukb/alextisyoung/GS20k_sumstats/traits/7/chr_2.hdf5\n",
      "Reading in file:  /disk/genetics/ukb/alextisyoung/GS20k_sumstats/traits/7/chr_6.hdf5\n",
      "Reading in file:  /disk/genetics/ukb/alextisyoung/GS20k_sumstats/traits/7/chr_19.hdf5\n",
      "Reading in file:  /disk/genetics/ukb/alextisyoung/GS20k_sumstats/traits/7/chr_15.hdf5\n",
      "Reading in file:  /disk/genetics/ukb/alextisyoung/GS20k_sumstats/traits/7/chr_20.hdf5\n",
      "Reading in file:  /disk/genetics/ukb/alextisyoung/GS20k_sumstats/traits/7/chr_11.hdf5\n",
      "Reading in file:  /disk/genetics/ukb/alextisyoung/GS20k_sumstats/traits/7/chr_14.hdf5\n",
      "Reading in file:  /disk/genetics/ukb/alextisyoung/GS20k_sumstats/traits/7/chr_21.hdf5\n",
      "Reading in file:  /disk/genetics/ukb/alextisyoung/GS20k_sumstats/traits/7/chr_10.hdf5\n",
      "Reading in file:  /disk/genetics/ukb/alextisyoung/GS20k_sumstats/traits/7/chr_3.hdf5\n",
      "Reading in file:  /disk/genetics/ukb/alextisyoung/GS20k_sumstats/traits/7/chr_7.hdf5\n",
      "Reading in file:  /disk/genetics/ukb/alextisyoung/GS20k_sumstats/traits/7/chr_18.hdf5\n",
      "Reading in file:  /disk/genetics/ukb/alextisyoung/GS20k_sumstats/traits/7/chr_16.hdf5\n",
      "Reading in file:  /disk/genetics/ukb/alextisyoung/GS20k_sumstats/traits/7/chr_9.hdf5\n",
      "Reading in file:  /disk/genetics/ukb/alextisyoung/GS20k_sumstats/traits/7/chr_12.hdf5\n",
      "Reading in file:  /disk/genetics/ukb/alextisyoung/GS20k_sumstats/traits/7/chr_1.hdf5\n",
      "Reading in file:  /disk/genetics/ukb/alextisyoung/GS20k_sumstats/traits/7/chr_5.hdf5\n",
      "Reading in file:  /disk/genetics/ukb/alextisyoung/GS20k_sumstats/traits/7/chr_4.hdf5\n",
      "Reading in file:  /disk/genetics/ukb/alextisyoung/GS20k_sumstats/traits/7/chr_17.hdf5\n",
      "Reading in file:  /disk/genetics/ukb/alextisyoung/GS20k_sumstats/traits/7/chr_8.hdf5\n",
      "Reading in file:  /disk/genetics/ukb/alextisyoung/GS20k_sumstats/traits/7/chr_22.hdf5\n",
      "Reading in file:  /disk/genetics/ukb/alextisyoung/GS20k_sumstats/traits/7/chr_13.hdf5\n"
     ]
    }
   ],
   "source": [
    "startTime = datetime.datetime.now()  \n",
    "logging.info(f\"Start time:  {startTime}\")\n",
    "\n",
    "# == Reading in Data == #\n",
    "print(\"=====================================\")\n",
    "print(\"Reading in Data\")\n",
    "print(\"=====================================\")\n",
    "# reading in  data\n",
    "files = glob.glob(f\"/disk/genetics/ukb/alextisyoung/GS20k_sumstats/traits/{traitcode}/chr_*.hdf5\")\n",
    "\n",
    "file = files[0]\n",
    "print(\"Reading in file: \", file)\n",
    "hf = h5py.File(file, 'r')\n",
    "metadata = hf.get(\"bim\")[()]\n",
    "chromosome = metadata[:, 0]\n",
    "snp = metadata[:, 3]\n",
    "theta  = hf.get('estimate')[()]\n",
    "se  = hf.get('estimate_ses')[()]\n",
    "N = hf.get('N_L')[()]\n",
    "S = hf.get('estimate_covariance')[()]\n",
    "f = hf.get('freqs')[()]\n",
    "\n",
    "# normalizing S\n",
    "sigma2 = hf.get('sigma2')[()]\n",
    "tau = hf.get('tau')[()]\n",
    "phvar = sigma2+sigma2/tau\n",
    "\n",
    "\n",
    "for file in files[1:]:\n",
    "    print(\"Reading in file: \", file)\n",
    "    hf = h5py.File(file, 'r')\n",
    "    metadata = hf.get(\"bim\")[()]\n",
    "    chromosome_file = metadata[:, 0]  \n",
    "    snp_file = metadata[:, 3]\n",
    "    theta_file  = hf.get('estimate')[()]\n",
    "    se_file  = hf.get('estimate_ses')[()]\n",
    "    S_file = hf.get('estimate_covariance')[()]\n",
    "    f_file = hf.get('freqs')[()]\n",
    "    N_file = hf.get('N_L')[()]\n",
    "\n",
    "    # normalizing S\n",
    "    sigma2 = hf.get('sigma2')[()]\n",
    "    tau = hf.get('tau')[()]\n",
    "\n",
    "    chromosome = np.append(chromosome, chromosome_file, axis = 0)\n",
    "    snp = np.append(snp, snp_file, axis = 0)\n",
    "    theta = np.append(theta, theta_file, axis = 0)\n",
    "    se = np.append(se, se_file, axis = 0)\n",
    "    S = np.append(S, S_file, axis = 0)\n",
    "    f = np.append(f, f_file, axis = 0)\n",
    "    N = np.append(N, N_file, axis = 0)\n",
    "\n",
    "# Constructing dataframe of data\n",
    "zdata = pd.DataFrame({'CHR' : chromosome,\n",
    "                    'BP' : snp,\n",
    "                    'N' : N,\n",
    "                    \"f\" : f,\n",
    "                    'theta' : theta.tolist(),\n",
    "                    'se' : se.tolist(),\n",
    "                    \"S\" : S.tolist()})\n",
    "\n",
    "\n",
    "zdata['CHR'] = zdata['CHR'].astype(int)\n",
    "zdata['BP'] = zdata['BP'].astype(str).str.replace(\"b'\", \"\").str[:-1]"
   ]
  },
  {
   "cell_type": "code",
   "execution_count": 71,
   "metadata": {},
   "outputs": [],
   "source": [
    "# == Reading in LD Scores == #\n",
    "\n",
    "ldscore_path = \"/disk/genetics/ukb/alextisyoung/GS20k_sumstats/ldscores/\"\n",
    "ldfiles = \"*[0-9].l2.ldscore.gz\"\n",
    "ldcolnames = [\"CHR\", \"SNP\", \"BP\", \"L2\"]\n",
    "Mfiles = \"*[0-9].l2.M_5_50\"\n",
    "Mcolnames = [\"M\", \"CHR\"]\n",
    "\n",
    "ldscores, mfile = ld.read_ldscores(ldscore_path, ldfiles, ldcolnames, Mfiles, Mcolnames)"
   ]
  },
  {
   "cell_type": "code",
   "execution_count": 72,
   "metadata": {},
   "outputs": [],
   "source": [
    "# Merging LD scores with main Data Frame\n",
    "ldscores['BP'] = ldscores['BP'].astype('int')\n",
    "zdata['BP'] = zdata['BP'].astype('int')\n",
    "\n",
    "main_df = zdata.merge(ldscores, how = \"inner\", on = [\"CHR\", \"BP\"])\n",
    "\n",
    "# dropping NAs\n",
    "main_df = main_df.dropna()"
   ]
  },
  {
   "cell_type": "code",
   "execution_count": 74,
   "metadata": {},
   "outputs": [],
   "source": [
    "# transforming inputs\n",
    "\n",
    "S = np.array(list(main_df.S)) \n",
    "theta = np.array(list(main_df.theta))\n",
    "f = np.array(list(main_df[\"f\"]))\n",
    "l = np.array(list(main_df[\"L2\"]))\n",
    "u = np.array(list(main_df[\"L2\"]))\n",
    "\n",
    "# M = mfile['M'].sum()\n",
    "M = len(S)\n",
    "\n",
    "effect_estimated = \"direct_plus_population\"\n",
    "\n",
    "S, theta = ld.transform_estimates(effect_estimated, S, theta)"
   ]
  },
  {
   "cell_type": "code",
   "execution_count": 78,
   "metadata": {},
   "outputs": [],
   "source": [
    "# making z value\n",
    "zval = ld.theta2z(theta, S, M = M)\n",
    "\n",
    "# == Initializing model == #\n",
    "model = ld.sibreg(S = S, \n",
    "                z = zval, \n",
    "                l = l,\n",
    "                f = f,\n",
    "                u = u,\n",
    "                M = M) "
   ]
  },
  {
   "cell_type": "code",
   "execution_count": 79,
   "metadata": {},
   "outputs": [
    {
     "name": "stdout",
     "output_type": "stream",
     "text": [
      "No initial guess provided.\n",
      "Making Method of Moments Guess\n",
      "=================================================\n",
      "Initial estimate: [ 3.70066400e+01  5.01955328e+01 -9.91498853e-03]\n"
     ]
    },
    {
     "ename": "ZeroDivisionError",
     "evalue": "division by zero",
     "output_type": "error",
     "traceback": [
      "\u001b[0;31m-------------------------------------------------------------\u001b[0m",
      "\u001b[0;31mZeroDivisionError\u001b[0m           Traceback (most recent call last)",
      "\u001b[0;32m<ipython-input-79-3bf5a3deca40>\u001b[0m in \u001b[0;36m<module>\u001b[0;34m\u001b[0m\n\u001b[0;32m----> 1\u001b[0;31m \u001b[0moutput_matrix\u001b[0m\u001b[0;34m,\u001b[0m \u001b[0mresult\u001b[0m \u001b[0;34m=\u001b[0m \u001b[0mmodel\u001b[0m\u001b[0;34m.\u001b[0m\u001b[0msolve\u001b[0m\u001b[0;34m(\u001b[0m\u001b[0;34m)\u001b[0m\u001b[0;34m\u001b[0m\u001b[0;34m\u001b[0m\u001b[0m\n\u001b[0m",
      "\u001b[0;32m/disk/homedirs/nber/harij/gitrepos/SNIPar/ldsc_reg/generation_scotland/../sib_ldsc_z.py\u001b[0m in \u001b[0;36msolve\u001b[0;34m(self, z, S, l, u, f, M, neg_logll_grad_func, est_init, printout)\u001b[0m\n\u001b[1;32m    611\u001b[0m \u001b[0;34m\u001b[0m\u001b[0m\n\u001b[1;32m    612\u001b[0m         \u001b[0;31m# Getting Inverse Hessian\u001b[0m\u001b[0;34m\u001b[0m\u001b[0;34m\u001b[0m\u001b[0;34m\u001b[0m\u001b[0m\n\u001b[0;32m--> 613\u001b[0;31m         \u001b[0mH\u001b[0m \u001b[0;34m=\u001b[0m \u001b[0mget_hessian\u001b[0m\u001b[0;34m(\u001b[0m\u001b[0mresult\u001b[0m\u001b[0;34m.\u001b[0m\u001b[0mx\u001b[0m\u001b[0;34m,\u001b[0m \u001b[0mz\u001b[0m\u001b[0;34m,\u001b[0m \u001b[0mS\u001b[0m\u001b[0;34m,\u001b[0m \u001b[0ml\u001b[0m\u001b[0;34m,\u001b[0m \u001b[0ml\u001b[0m\u001b[0;34m,\u001b[0m \u001b[0mf\u001b[0m\u001b[0;34m,\u001b[0m \u001b[0mM\u001b[0m\u001b[0;34m)\u001b[0m\u001b[0;34m\u001b[0m\u001b[0;34m\u001b[0m\u001b[0m\n\u001b[0m\u001b[1;32m    614\u001b[0m         \u001b[0minvH\u001b[0m \u001b[0;34m=\u001b[0m \u001b[0mnp\u001b[0m\u001b[0;34m.\u001b[0m\u001b[0mlinalg\u001b[0m\u001b[0;34m.\u001b[0m\u001b[0minv\u001b[0m\u001b[0;34m(\u001b[0m\u001b[0mH\u001b[0m\u001b[0;34m)\u001b[0m\u001b[0;34m\u001b[0m\u001b[0;34m\u001b[0m\u001b[0m\n\u001b[1;32m    615\u001b[0m         \u001b[0mstd_err_mat\u001b[0m \u001b[0;34m=\u001b[0m \u001b[0mnp\u001b[0m\u001b[0;34m.\u001b[0m\u001b[0msqrt\u001b[0m\u001b[0;34m(\u001b[0m\u001b[0minvH\u001b[0m\u001b[0;34m)\u001b[0m\u001b[0;34m\u001b[0m\u001b[0;34m\u001b[0m\u001b[0m\n",
      "\u001b[0;32m/disk/homedirs/nber/harij/gitrepos/SNIPar/ldsc_reg/generation_scotland/../sib_ldsc_z.py\u001b[0m in \u001b[0;36mget_hessian\u001b[0;34m(V, z, S, l, u, f, M)\u001b[0m\n\u001b[1;32m    446\u001b[0m     \u001b[0mS\u001b[0m \u001b[0;34m=\u001b[0m \u001b[0mnormalize_S\u001b[0m\u001b[0;34m(\u001b[0m\u001b[0mS\u001b[0m\u001b[0;34m,\u001b[0m \u001b[0mnormalizer\u001b[0m\u001b[0;34m)\u001b[0m\u001b[0;34m\u001b[0m\u001b[0;34m\u001b[0m\u001b[0m\n\u001b[1;32m    447\u001b[0m \u001b[0;34m\u001b[0m\u001b[0m\n\u001b[0;32m--> 448\u001b[0;31m     \u001b[0mH\u001b[0m \u001b[0;34m=\u001b[0m \u001b[0m_data_hessian\u001b[0m\u001b[0;34m(\u001b[0m\u001b[0mV\u001b[0m\u001b[0;34m,\u001b[0m \u001b[0mz\u001b[0m\u001b[0;34m,\u001b[0m \u001b[0mS\u001b[0m\u001b[0;34m,\u001b[0m \u001b[0ml\u001b[0m\u001b[0;34m,\u001b[0m \u001b[0mu\u001b[0m\u001b[0;34m,\u001b[0m \u001b[0mM\u001b[0m\u001b[0;34m)\u001b[0m\u001b[0;34m\u001b[0m\u001b[0;34m\u001b[0m\u001b[0m\n\u001b[0m\u001b[1;32m    449\u001b[0m \u001b[0;34m\u001b[0m\u001b[0m\n\u001b[1;32m    450\u001b[0m     \u001b[0;32mreturn\u001b[0m \u001b[0mH\u001b[0m\u001b[0;34m\u001b[0m\u001b[0;34m\u001b[0m\u001b[0m\n",
      "\u001b[0;31mZeroDivisionError\u001b[0m: division by zero"
     ]
    }
   ],
   "source": [
    "output_matrix, result = model.solve() "
   ]
  },
  {
   "cell_type": "code",
   "execution_count": 80,
   "metadata": {},
   "outputs": [],
   "source": [
    "# manual optimization\n",
    "S_hat = np.mean(S, axis = 0)\n",
    "Dmat = ld.makeDmat(S_hat, M)\n",
    "Snew = Dmat @ S_hat @ Dmat\n",
    "z_var = np.cov(zval.T)\n",
    "Vnew_init = z_var - Snew\n",
    "V_init = np.linalg.inv(Dmat) @ Vnew_init @ np.linalg.inv(Dmat)\n",
    "est_init = ld.Vmat2V(V_init, M)"
   ]
  },
  {
   "cell_type": "code",
   "execution_count": 81,
   "metadata": {},
   "outputs": [
    {
     "data": {
      "text/plain": [
       "array([ 3.70066400e+01,  5.01955328e+01, -9.91498853e-03])"
      ]
     },
     "execution_count": 81,
     "metadata": {},
     "output_type": "execute_result"
    }
   ],
   "source": [
    "est_init"
   ]
  },
  {
   "cell_type": "code",
   "execution_count": 83,
   "metadata": {},
   "outputs": [],
   "source": [
    "from scipy.optimize import minimize\n",
    "result = minimize(\n",
    "    ld.neglike_wrapper, \n",
    "    est_init,\n",
    "    jac = True,\n",
    "    args = (zval, S, l, u, f, M),\n",
    "    bounds = [(1e-6, None), (1e-6, None), (-1, 1)],\n",
    "    method = 'L-BFGS-B'\n",
    ")"
   ]
  },
  {
   "cell_type": "code",
   "execution_count": 86,
   "metadata": {},
   "outputs": [
    {
     "data": {
      "text/plain": [
       "array([1.00000000e-06, 4.49367194e-01, 9.99999999e-01])"
      ]
     },
     "execution_count": 86,
     "metadata": {},
     "output_type": "execute_result"
    }
   ],
   "source": [
    "result.x"
   ]
  }
 ],
 "metadata": {
  "kernelspec": {
   "display_name": "Python 3",
   "language": "python",
   "name": "python3"
  },
  "language_info": {
   "codemirror_mode": {
    "name": "ipython",
    "version": 3
   },
   "file_extension": ".py",
   "mimetype": "text/x-python",
   "name": "python",
   "nbconvert_exporter": "python",
   "pygments_lexer": "ipython3",
   "version": "3.7.6"
  }
 },
 "nbformat": 4,
 "nbformat_minor": 4
}
