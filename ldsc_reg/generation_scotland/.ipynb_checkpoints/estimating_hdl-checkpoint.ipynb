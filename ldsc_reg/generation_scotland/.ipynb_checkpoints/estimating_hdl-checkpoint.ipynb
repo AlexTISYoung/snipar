{
 "cells": [
  {
   "cell_type": "code",
   "execution_count": 1,
   "metadata": {},
   "outputs": [],
   "source": [
    "import numpy as np\n",
    "import h5py\n",
    "import glob\n",
    "import datetime\n",
    "import matplotlib.pyplot as plt\n",
    "import pandas as pd\n",
    "import logging\n",
    "\n",
    "\n",
    "import sys\n",
    "import os\n",
    "sys.path.append(os.getcwd() + '/..')\n",
    "import sib_ldsc_z as ld"
   ]
  },
  {
   "cell_type": "code",
   "execution_count": 22,
   "metadata": {},
   "outputs": [
    {
     "name": "stdout",
     "output_type": "stream",
     "text": [
      "FEV1\n"
     ]
    }
   ],
   "source": [
    "traitnos = glob.glob(\"/disk/genetics/ukb/alextisyoung/GS20k_sumstats/traits/*/\")\n",
    "traitnos = [int(i[-3:-1].strip('/')) for i in traitnos]\n",
    "\n",
    "traitcodes = pd.read_csv(\"/disk/genetics/ukb/alextisyoung/GS20k_sumstats/traits/traits.txt\", \n",
    "            names = ['traitcode', 'trait'], \n",
    "            sep = ' ')\n",
    "            \n",
    "traitname = traitcodes.loc[traitcodes['traitcode'] == 4, 'trait'].values[0]\n",
    "print(traitname)"
   ]
  },
  {
   "cell_type": "code",
   "execution_count": 6,
   "metadata": {},
   "outputs": [
    {
     "name": "stdout",
     "output_type": "stream",
     "text": [
      "=====================================\n",
      "Reading in Data\n",
      "=====================================\n",
      "Reading in file:  /disk/genetics/ukb/alextisyoung/GS20k_sumstats/traits/4/chr_5.hdf5\n",
      "Reading in file:  /disk/genetics/ukb/alextisyoung/GS20k_sumstats/traits/4/chr_17.hdf5\n",
      "Reading in file:  /disk/genetics/ukb/alextisyoung/GS20k_sumstats/traits/4/chr_1.hdf5\n",
      "Reading in file:  /disk/genetics/ukb/alextisyoung/GS20k_sumstats/traits/4/chr_13.hdf5\n",
      "Reading in file:  /disk/genetics/ukb/alextisyoung/GS20k_sumstats/traits/4/chr_22.hdf5\n",
      "Reading in file:  /disk/genetics/ukb/alextisyoung/GS20k_sumstats/traits/4/chr_9.hdf5\n",
      "Reading in file:  /disk/genetics/ukb/alextisyoung/GS20k_sumstats/traits/4/chr_8.hdf5\n",
      "Reading in file:  /disk/genetics/ukb/alextisyoung/GS20k_sumstats/traits/4/chr_4.hdf5\n",
      "Reading in file:  /disk/genetics/ukb/alextisyoung/GS20k_sumstats/traits/4/chr_16.hdf5\n",
      "Reading in file:  /disk/genetics/ukb/alextisyoung/GS20k_sumstats/traits/4/chr_12.hdf5\n",
      "Reading in file:  /disk/genetics/ukb/alextisyoung/GS20k_sumstats/traits/4/chr_18.hdf5\n",
      "Reading in file:  /disk/genetics/ukb/alextisyoung/GS20k_sumstats/traits/4/chr_6.hdf5\n",
      "Reading in file:  /disk/genetics/ukb/alextisyoung/GS20k_sumstats/traits/4/chr_14.hdf5\n",
      "Reading in file:  /disk/genetics/ukb/alextisyoung/GS20k_sumstats/traits/4/chr_2.hdf5\n",
      "Reading in file:  /disk/genetics/ukb/alextisyoung/GS20k_sumstats/traits/4/chr_10.hdf5\n",
      "Reading in file:  /disk/genetics/ukb/alextisyoung/GS20k_sumstats/traits/4/chr_21.hdf5\n",
      "Reading in file:  /disk/genetics/ukb/alextisyoung/GS20k_sumstats/traits/4/chr_7.hdf5\n",
      "Reading in file:  /disk/genetics/ukb/alextisyoung/GS20k_sumstats/traits/4/chr_15.hdf5\n",
      "Reading in file:  /disk/genetics/ukb/alextisyoung/GS20k_sumstats/traits/4/chr_3.hdf5\n",
      "Reading in file:  /disk/genetics/ukb/alextisyoung/GS20k_sumstats/traits/4/chr_11.hdf5\n",
      "Reading in file:  /disk/genetics/ukb/alextisyoung/GS20k_sumstats/traits/4/chr_20.hdf5\n",
      "Reading in file:  /disk/genetics/ukb/alextisyoung/GS20k_sumstats/traits/4/chr_19.hdf5\n"
     ]
    }
   ],
   "source": [
    "startTime = datetime.datetime.now()  \n",
    "logging.info(f\"Start time:  {startTime}\")\n",
    "\n",
    "# == Reading in Data == #\n",
    "print(\"=====================================\")\n",
    "print(\"Reading in Data\")\n",
    "print(\"=====================================\")\n",
    "# reading in  data\n",
    "files = glob.glob(\"/disk/genetics/ukb/alextisyoung/GS20k_sumstats/traits/4/chr_*.hdf5\")\n",
    "\n",
    "file = files[0]\n",
    "print(\"Reading in file: \", file)\n",
    "hf = h5py.File(file, 'r')\n",
    "metadata = hf.get(\"bim\")[()]\n",
    "chromosome = metadata[:, 0]\n",
    "snp = metadata[:, 3]\n",
    "theta  = hf.get('estimate')[()]\n",
    "se  = hf.get('estimate_ses')[()]\n",
    "N = hf.get('N_L')[()]\n",
    "S = hf.get('estimate_covariance')[()]\n",
    "f = hf.get('freqs')[()]\n",
    "\n",
    "# normalizing S\n",
    "sigma2 = hf.get('sigma2')[()]\n",
    "tau = hf.get('tau')[()]\n",
    "phvar = sigma2+sigma2/tau\n",
    "\n",
    "\n",
    "for file in files[1:]:\n",
    "    print(\"Reading in file: \", file)\n",
    "    hf = h5py.File(file, 'r')\n",
    "    metadata = hf.get(\"bim\")[()]\n",
    "    chromosome_file = metadata[:, 0]  \n",
    "    snp_file = metadata[:, 3]\n",
    "    theta_file  = hf.get('estimate')[()]\n",
    "    se_file  = hf.get('estimate_ses')[()]\n",
    "    S_file = hf.get('estimate_covariance')[()]\n",
    "    f_file = hf.get('freqs')[()]\n",
    "    N_file = hf.get('N_L')[()]\n",
    "\n",
    "    # normalizing S\n",
    "    sigma2 = hf.get('sigma2')[()]\n",
    "    tau = hf.get('tau')[()]\n",
    "\n",
    "    chromosome = np.append(chromosome, chromosome_file, axis = 0)\n",
    "    snp = np.append(snp, snp_file, axis = 0)\n",
    "    theta = np.append(theta, theta_file, axis = 0)\n",
    "    se = np.append(se, se_file, axis = 0)\n",
    "    S = np.append(S, S_file, axis = 0)\n",
    "    f = np.append(f, f_file, axis = 0)\n",
    "    N = np.append(N, N_file, axis = 0)\n",
    "\n",
    "# Constructing dataframe of data\n",
    "zdata = pd.DataFrame({'CHR' : chromosome,\n",
    "                    'BP' : snp,\n",
    "                    'N' : N,\n",
    "                    \"f\" : f,\n",
    "                    'theta' : theta.tolist(),\n",
    "                    'se' : se.tolist(),\n",
    "                    \"S\" : S.tolist()})\n",
    "\n",
    "\n",
    "zdata['CHR'] = zdata['CHR'].astype(int)\n",
    "zdata['BP'] = zdata['BP'].astype(str).str.replace(\"b'\", \"\").str[:-1]"
   ]
  },
  {
   "cell_type": "code",
   "execution_count": 7,
   "metadata": {},
   "outputs": [],
   "source": [
    "# == Reading in LD Scores == #\n",
    "\n",
    "ldscore_path = \"/disk/genetics/ukb/alextisyoung/GS20k_sumstats/ldscores/\"\n",
    "ldfiles = \"*[0-9].l2.ldscore.gz\"\n",
    "ldcolnames = [\"CHR\", \"SNP\", \"BP\", \"L2\"]\n",
    "Mfiles = \"*[0-9].l2.M_5_50\"\n",
    "Mcolnames = [\"M\", \"CHR\"]\n",
    "\n",
    "ldscores, mfile = ld.read_ldscores(ldscore_path, ldfiles, ldcolnames, Mfiles, Mcolnames)"
   ]
  },
  {
   "cell_type": "code",
   "execution_count": 9,
   "metadata": {},
   "outputs": [],
   "source": [
    "# Merging LD scores with main Data Frame\n",
    "ldscores['BP'] = ldscores['BP'].astype('int')\n",
    "zdata['BP'] = zdata['BP'].astype('int')\n",
    "\n",
    "main_df = zdata.merge(ldscores, how = \"inner\", on = [\"CHR\", \"BP\"])\n",
    "\n",
    "# dropping NAs\n",
    "main_df = main_df.dropna()"
   ]
  },
  {
   "cell_type": "code",
   "execution_count": 11,
   "metadata": {},
   "outputs": [],
   "source": [
    "# transforming inputs\n",
    "\n",
    "S = np.array(list(main_df.S)) \n",
    "theta = np.array(list(main_df.theta))\n",
    "f = np.array(list(main_df[\"f\"]))\n",
    "l = np.array(list(main_df[\"L2\"]))\n",
    "u = np.array(list(main_df[\"L2\"]))\n",
    "\n",
    "# M = mfile['M'].sum()\n",
    "M = len(S)\n",
    "\n",
    "effect_estimated = \"direct_plus_population\"\n",
    "\n",
    "S, theta = ld.transform_estimates(effect_estimated, S, theta)"
   ]
  },
  {
   "cell_type": "code",
   "execution_count": 113,
   "metadata": {},
   "outputs": [],
   "source": [
    "# making z value\n",
    "zval = ld.theta2z(theta, S, M = M)\n",
    "\n",
    "# == Initializing model == #\n",
    "model = ld.sibreg(S = S, \n",
    "                z = zval, \n",
    "                l = l,\n",
    "                f = f,\n",
    "                u = u,\n",
    "                M = M) "
   ]
  },
  {
   "cell_type": "code",
   "execution_count": 114,
   "metadata": {},
   "outputs": [
    {
     "name": "stdout",
     "output_type": "stream",
     "text": [
      "No initial guess provided.\n",
      "Making Method of Moments Guess\n",
      "=================================================\n",
      "Initial estimate: [22.74811853 75.56236502  0.58662413]\n"
     ]
    },
    {
     "name": "stderr",
     "output_type": "stream",
     "text": [
      "/disk/homedirs/nber/harij/gitrepos/SNIPar/ldsc_reg/generation_scotland/../sib_ldsc_z.py:337: NumbaPerformanceWarning: \u001b[1m\u001b[1m\u001b[1m'@' is faster on contiguous arrays, called on (array(float64, 2d, F), array(float64, 2d, A))\u001b[0m\u001b[0m\u001b[0m\n",
      "  log_ll += (1/ui) * _log_ll(V, zi, Si, li, M)\n",
      "/disk/homedirs/nber/harij/gitrepos/SNIPar/ldsc_reg/generation_scotland/../sib_ldsc_z.py:337: NumbaPerformanceWarning: \u001b[1m\u001b[1m'@' is faster on contiguous arrays, called on (array(float64, 2d, F), array(float64, 2d, A))\u001b[0m\u001b[0m\n",
      "  log_ll += (1/ui) * _log_ll(V, zi, Si, li, M)\n",
      "/disk/homedirs/nber/harij/gitrepos/SNIPar/ldsc_reg/generation_scotland/../sib_ldsc_z.py:615: RuntimeWarning: invalid value encountered in sqrt\n",
      "  std_err_mat = np.sqrt(invH)\n"
     ]
    }
   ],
   "source": [
    "output_matrix, result = model.solve() "
   ]
  },
  {
   "cell_type": "code",
   "execution_count": null,
   "metadata": {},
   "outputs": [],
   "source": []
  }
 ],
 "metadata": {
  "kernelspec": {
   "display_name": "Python 3",
   "language": "python",
   "name": "python3"
  },
  "language_info": {
   "codemirror_mode": {
    "name": "ipython",
    "version": 3
   },
   "file_extension": ".py",
   "mimetype": "text/x-python",
   "name": "python",
   "nbconvert_exporter": "python",
   "pygments_lexer": "ipython3",
   "version": "3.7.6"
  }
 },
 "nbformat": 4,
 "nbformat_minor": 4
}
