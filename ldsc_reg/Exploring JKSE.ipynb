{
 "cells": [
  {
   "cell_type": "code",
   "execution_count": 1,
   "metadata": {},
   "outputs": [
    {
     "data": {
      "text/plain": [
       "<module 'sib_ldsc_z' from '/disk/homedirs/nber/harij/gitrepos/SNIPar/ldsc_reg/sib_ldsc_z.py'>"
      ]
     },
     "execution_count": 1,
     "metadata": {},
     "output_type": "execute_result"
    }
   ],
   "source": [
    "import numpy as np\n",
    "import sib_ldsc_z as ld\n",
    "from scipy.optimize import minimize\n",
    "from scipy.special import comb\n",
    "from scipy.misc import derivative\n",
    "import scipy.stats\n",
    "from importlib import reload\n",
    "import matplotlib.pyplot as plt\n",
    "import seaborn as sns\n",
    "import glob\n",
    "import datetime\n",
    "import multiprocessing\n",
    "# import numdifftools as nd\n",
    "reload(ld)"
   ]
  },
  {
   "cell_type": "code",
   "execution_count": 2,
   "metadata": {},
   "outputs": [
    {
     "name": "stdout",
     "output_type": "stream",
     "text": [
      "Reading in file:  /disk/genetics/ukb/alextisyoung/haplotypes/simulated_pops_large/from_chr1_to_chr23_start0_endNone_run0_p0-0_ab_corr0-5_vb0-25_length2/phenotype_dir_par_corr_0.5/1/chr_17.hdf5\n",
      "Reading in file:  /disk/genetics/ukb/alextisyoung/haplotypes/simulated_pops_large/from_chr1_to_chr23_start0_endNone_run0_p0-0_ab_corr0-5_vb0-25_length2/phenotype_dir_par_corr_0.5/1/chr_5.hdf5\n",
      "Reading in file:  /disk/genetics/ukb/alextisyoung/haplotypes/simulated_pops_large/from_chr1_to_chr23_start0_endNone_run0_p0-0_ab_corr0-5_vb0-25_length2/phenotype_dir_par_corr_0.5/1/chr_1.hdf5\n",
      "Reading in file:  /disk/genetics/ukb/alextisyoung/haplotypes/simulated_pops_large/from_chr1_to_chr23_start0_endNone_run0_p0-0_ab_corr0-5_vb0-25_length2/phenotype_dir_par_corr_0.5/1/chr_13.hdf5\n",
      "Reading in file:  /disk/genetics/ukb/alextisyoung/haplotypes/simulated_pops_large/from_chr1_to_chr23_start0_endNone_run0_p0-0_ab_corr0-5_vb0-25_length2/phenotype_dir_par_corr_0.5/1/chr_22.hdf5\n",
      "Reading in file:  /disk/genetics/ukb/alextisyoung/haplotypes/simulated_pops_large/from_chr1_to_chr23_start0_endNone_run0_p0-0_ab_corr0-5_vb0-25_length2/phenotype_dir_par_corr_0.5/1/chr_9.hdf5\n",
      "Reading in file:  /disk/genetics/ukb/alextisyoung/haplotypes/simulated_pops_large/from_chr1_to_chr23_start0_endNone_run0_p0-0_ab_corr0-5_vb0-25_length2/phenotype_dir_par_corr_0.5/1/chr_8.hdf5\n",
      "Reading in file:  /disk/genetics/ukb/alextisyoung/haplotypes/simulated_pops_large/from_chr1_to_chr23_start0_endNone_run0_p0-0_ab_corr0-5_vb0-25_length2/phenotype_dir_par_corr_0.5/1/chr_16.hdf5\n",
      "Reading in file:  /disk/genetics/ukb/alextisyoung/haplotypes/simulated_pops_large/from_chr1_to_chr23_start0_endNone_run0_p0-0_ab_corr0-5_vb0-25_length2/phenotype_dir_par_corr_0.5/1/chr_4.hdf5\n",
      "Reading in file:  /disk/genetics/ukb/alextisyoung/haplotypes/simulated_pops_large/from_chr1_to_chr23_start0_endNone_run0_p0-0_ab_corr0-5_vb0-25_length2/phenotype_dir_par_corr_0.5/1/chr_12.hdf5\n",
      "Reading in file:  /disk/genetics/ukb/alextisyoung/haplotypes/simulated_pops_large/from_chr1_to_chr23_start0_endNone_run0_p0-0_ab_corr0-5_vb0-25_length2/phenotype_dir_par_corr_0.5/1/chr_18.hdf5\n",
      "Reading in file:  /disk/genetics/ukb/alextisyoung/haplotypes/simulated_pops_large/from_chr1_to_chr23_start0_endNone_run0_p0-0_ab_corr0-5_vb0-25_length2/phenotype_dir_par_corr_0.5/1/chr_14.hdf5\n",
      "Reading in file:  /disk/genetics/ukb/alextisyoung/haplotypes/simulated_pops_large/from_chr1_to_chr23_start0_endNone_run0_p0-0_ab_corr0-5_vb0-25_length2/phenotype_dir_par_corr_0.5/1/chr_6.hdf5\n",
      "Reading in file:  /disk/genetics/ukb/alextisyoung/haplotypes/simulated_pops_large/from_chr1_to_chr23_start0_endNone_run0_p0-0_ab_corr0-5_vb0-25_length2/phenotype_dir_par_corr_0.5/1/chr_2.hdf5\n",
      "Reading in file:  /disk/genetics/ukb/alextisyoung/haplotypes/simulated_pops_large/from_chr1_to_chr23_start0_endNone_run0_p0-0_ab_corr0-5_vb0-25_length2/phenotype_dir_par_corr_0.5/1/chr_10.hdf5\n",
      "Reading in file:  /disk/genetics/ukb/alextisyoung/haplotypes/simulated_pops_large/from_chr1_to_chr23_start0_endNone_run0_p0-0_ab_corr0-5_vb0-25_length2/phenotype_dir_par_corr_0.5/1/chr_21.hdf5\n",
      "Reading in file:  /disk/genetics/ukb/alextisyoung/haplotypes/simulated_pops_large/from_chr1_to_chr23_start0_endNone_run0_p0-0_ab_corr0-5_vb0-25_length2/phenotype_dir_par_corr_0.5/1/chr_15.hdf5\n",
      "Reading in file:  /disk/genetics/ukb/alextisyoung/haplotypes/simulated_pops_large/from_chr1_to_chr23_start0_endNone_run0_p0-0_ab_corr0-5_vb0-25_length2/phenotype_dir_par_corr_0.5/1/chr_7.hdf5\n",
      "Reading in file:  /disk/genetics/ukb/alextisyoung/haplotypes/simulated_pops_large/from_chr1_to_chr23_start0_endNone_run0_p0-0_ab_corr0-5_vb0-25_length2/phenotype_dir_par_corr_0.5/1/chr_3.hdf5\n",
      "Reading in file:  /disk/genetics/ukb/alextisyoung/haplotypes/simulated_pops_large/from_chr1_to_chr23_start0_endNone_run0_p0-0_ab_corr0-5_vb0-25_length2/phenotype_dir_par_corr_0.5/1/chr_11.hdf5\n",
      "Reading in file:  /disk/genetics/ukb/alextisyoung/haplotypes/simulated_pops_large/from_chr1_to_chr23_start0_endNone_run0_p0-0_ab_corr0-5_vb0-25_length2/phenotype_dir_par_corr_0.5/1/chr_20.hdf5\n",
      "Reading in file:  /disk/genetics/ukb/alextisyoung/haplotypes/simulated_pops_large/from_chr1_to_chr23_start0_endNone_run0_p0-0_ab_corr0-5_vb0-25_length2/phenotype_dir_par_corr_0.5/1/chr_19.hdf5\n",
      "Number of Observations before merging LD-Scores, before removing low MAF SNPs: 147403\n",
      "Number of Observations before merging LD-Scores, after removing low MAF SNPs: 147403\n",
      "Initial estimate: [0.49972868 0.49972868 0.        ]\n"
     ]
    },
    {
     "ename": "TypingError",
     "evalue": "Failed in nopython mode pipeline (step: nopython frontend)\n\u001b[1mUntyped global name 'N':\u001b[0m \u001b[1m\u001b[1mcannot determine Numba type of <class 'numba.ir.UndefinedType'>\u001b[0m\n\u001b[1m\nFile \"sib_ldsc_z.py\", line 256:\u001b[0m\n\u001b[1mdef neg_logll_grad(V, z, S, l, u, M):\n    <source elided>\n\n\u001b[1m    for i in prange(N):\n\u001b[0m    \u001b[1m^\u001b[0m\u001b[0m\n\u001b[0m",
     "output_type": "error",
     "traceback": [
      "\u001b[0;31m---------------------------------------------------------------------------\u001b[0m",
      "\u001b[0;31mTypingError\u001b[0m                               Traceback (most recent call last)",
      "\u001b[0;32m<ipython-input-2-5742937f088f>\u001b[0m in \u001b[0;36m<module>\u001b[0;34m\u001b[0m\n\u001b[1;32m    116\u001b[0m \u001b[0;34m\u001b[0m\u001b[0m\n\u001b[1;32m    117\u001b[0m output_matrix, result = model.solve(est_init = np.array([phvar/2, phvar/2, 0.0]),\n\u001b[0;32m--> 118\u001b[0;31m                                     rbounds = True)\n\u001b[0m\u001b[1;32m    119\u001b[0m \u001b[0;34m\u001b[0m\u001b[0m\n\u001b[1;32m    120\u001b[0m \u001b[0;34m\u001b[0m\u001b[0m\n",
      "\u001b[0;32m/disk/homedirs/nber/harij/gitrepos/SNIPar/ldsc_reg/sib_ldsc_z.py\u001b[0m in \u001b[0;36msolve\u001b[0;34m(self, z, S, l, u, f, M, neg_logll_grad_func, est_init, printout, rbounds, hipreci)\u001b[0m\n\u001b[1;32m    538\u001b[0m                 \u001b[0mbounds\u001b[0m \u001b[0;34m=\u001b[0m \u001b[0;34m[\u001b[0m\u001b[0;34m(\u001b[0m\u001b[0;36m1e-6\u001b[0m\u001b[0;34m,\u001b[0m \u001b[0;32mNone\u001b[0m\u001b[0;34m)\u001b[0m\u001b[0;34m,\u001b[0m \u001b[0;34m(\u001b[0m\u001b[0;36m1e-6\u001b[0m\u001b[0;34m,\u001b[0m \u001b[0;32mNone\u001b[0m\u001b[0;34m)\u001b[0m\u001b[0;34m,\u001b[0m \u001b[0mrlimit\u001b[0m\u001b[0;34m]\u001b[0m\u001b[0;34m,\u001b[0m\u001b[0;34m\u001b[0m\u001b[0;34m\u001b[0m\u001b[0m\n\u001b[1;32m    539\u001b[0m                 \u001b[0mmethod\u001b[0m \u001b[0;34m=\u001b[0m \u001b[0;34m'L-BFGS-B'\u001b[0m\u001b[0;34m,\u001b[0m\u001b[0;34m\u001b[0m\u001b[0;34m\u001b[0m\u001b[0m\n\u001b[0;32m--> 540\u001b[0;31m                 \u001b[0moptions\u001b[0m \u001b[0;34m=\u001b[0m \u001b[0;34m{\u001b[0m\u001b[0;34m'ftol'\u001b[0m \u001b[0;34m:\u001b[0m \u001b[0mftol\u001b[0m\u001b[0;34m}\u001b[0m\u001b[0;34m\u001b[0m\u001b[0;34m\u001b[0m\u001b[0m\n\u001b[0m\u001b[1;32m    541\u001b[0m \u001b[0;34m\u001b[0m\u001b[0m\n\u001b[1;32m    542\u001b[0m             )\n",
      "\u001b[0;32m~/.conda/envs/sniparenv/lib/python3.7/site-packages/scipy/optimize/_minimize.py\u001b[0m in \u001b[0;36mminimize\u001b[0;34m(fun, x0, args, method, jac, hess, hessp, bounds, constraints, tol, callback, options)\u001b[0m\n\u001b[1;32m    608\u001b[0m     \u001b[0;32melif\u001b[0m \u001b[0mmeth\u001b[0m \u001b[0;34m==\u001b[0m \u001b[0;34m'l-bfgs-b'\u001b[0m\u001b[0;34m:\u001b[0m\u001b[0;34m\u001b[0m\u001b[0;34m\u001b[0m\u001b[0m\n\u001b[1;32m    609\u001b[0m         return _minimize_lbfgsb(fun, x0, args, jac, bounds,\n\u001b[0;32m--> 610\u001b[0;31m                                 callback=callback, **options)\n\u001b[0m\u001b[1;32m    611\u001b[0m     \u001b[0;32melif\u001b[0m \u001b[0mmeth\u001b[0m \u001b[0;34m==\u001b[0m \u001b[0;34m'tnc'\u001b[0m\u001b[0;34m:\u001b[0m\u001b[0;34m\u001b[0m\u001b[0;34m\u001b[0m\u001b[0m\n\u001b[1;32m    612\u001b[0m         return _minimize_tnc(fun, x0, args, jac, bounds, callback=callback,\n",
      "\u001b[0;32m~/.conda/envs/sniparenv/lib/python3.7/site-packages/scipy/optimize/lbfgsb.py\u001b[0m in \u001b[0;36m_minimize_lbfgsb\u001b[0;34m(fun, x0, args, jac, bounds, disp, maxcor, ftol, gtol, eps, maxfun, maxiter, iprint, callback, maxls, **unknown_options)\u001b[0m\n\u001b[1;32m    343\u001b[0m             \u001b[0;31m# until the completion of the current minimization iteration.\u001b[0m\u001b[0;34m\u001b[0m\u001b[0;34m\u001b[0m\u001b[0;34m\u001b[0m\u001b[0m\n\u001b[1;32m    344\u001b[0m             \u001b[0;31m# Overwrite f and g:\u001b[0m\u001b[0;34m\u001b[0m\u001b[0;34m\u001b[0m\u001b[0;34m\u001b[0m\u001b[0m\n\u001b[0;32m--> 345\u001b[0;31m             \u001b[0mf\u001b[0m\u001b[0;34m,\u001b[0m \u001b[0mg\u001b[0m \u001b[0;34m=\u001b[0m \u001b[0mfunc_and_grad\u001b[0m\u001b[0;34m(\u001b[0m\u001b[0mx\u001b[0m\u001b[0;34m)\u001b[0m\u001b[0;34m\u001b[0m\u001b[0;34m\u001b[0m\u001b[0m\n\u001b[0m\u001b[1;32m    346\u001b[0m         \u001b[0;32melif\u001b[0m \u001b[0mtask_str\u001b[0m\u001b[0;34m.\u001b[0m\u001b[0mstartswith\u001b[0m\u001b[0;34m(\u001b[0m\u001b[0;34mb'NEW_X'\u001b[0m\u001b[0;34m)\u001b[0m\u001b[0;34m:\u001b[0m\u001b[0;34m\u001b[0m\u001b[0;34m\u001b[0m\u001b[0m\n\u001b[1;32m    347\u001b[0m             \u001b[0;31m# new iteration\u001b[0m\u001b[0;34m\u001b[0m\u001b[0;34m\u001b[0m\u001b[0;34m\u001b[0m\u001b[0m\n",
      "\u001b[0;32m~/.conda/envs/sniparenv/lib/python3.7/site-packages/scipy/optimize/lbfgsb.py\u001b[0m in \u001b[0;36mfunc_and_grad\u001b[0;34m(x)\u001b[0m\n\u001b[1;32m    293\u001b[0m     \u001b[0;32melse\u001b[0m\u001b[0;34m:\u001b[0m\u001b[0;34m\u001b[0m\u001b[0;34m\u001b[0m\u001b[0m\n\u001b[1;32m    294\u001b[0m         \u001b[0;32mdef\u001b[0m \u001b[0mfunc_and_grad\u001b[0m\u001b[0;34m(\u001b[0m\u001b[0mx\u001b[0m\u001b[0;34m)\u001b[0m\u001b[0;34m:\u001b[0m\u001b[0;34m\u001b[0m\u001b[0;34m\u001b[0m\u001b[0m\n\u001b[0;32m--> 295\u001b[0;31m             \u001b[0mf\u001b[0m \u001b[0;34m=\u001b[0m \u001b[0mfun\u001b[0m\u001b[0;34m(\u001b[0m\u001b[0mx\u001b[0m\u001b[0;34m,\u001b[0m \u001b[0;34m*\u001b[0m\u001b[0margs\u001b[0m\u001b[0;34m)\u001b[0m\u001b[0;34m\u001b[0m\u001b[0;34m\u001b[0m\u001b[0m\n\u001b[0m\u001b[1;32m    296\u001b[0m             \u001b[0mg\u001b[0m \u001b[0;34m=\u001b[0m \u001b[0mjac\u001b[0m\u001b[0;34m(\u001b[0m\u001b[0mx\u001b[0m\u001b[0;34m,\u001b[0m \u001b[0;34m*\u001b[0m\u001b[0margs\u001b[0m\u001b[0;34m)\u001b[0m\u001b[0;34m\u001b[0m\u001b[0;34m\u001b[0m\u001b[0m\n\u001b[1;32m    297\u001b[0m             \u001b[0;32mreturn\u001b[0m \u001b[0mf\u001b[0m\u001b[0;34m,\u001b[0m \u001b[0mg\u001b[0m\u001b[0;34m\u001b[0m\u001b[0;34m\u001b[0m\u001b[0m\n",
      "\u001b[0;32m~/.conda/envs/sniparenv/lib/python3.7/site-packages/scipy/optimize/optimize.py\u001b[0m in \u001b[0;36mfunction_wrapper\u001b[0;34m(*wrapper_args)\u001b[0m\n\u001b[1;32m    325\u001b[0m     \u001b[0;32mdef\u001b[0m \u001b[0mfunction_wrapper\u001b[0m\u001b[0;34m(\u001b[0m\u001b[0;34m*\u001b[0m\u001b[0mwrapper_args\u001b[0m\u001b[0;34m)\u001b[0m\u001b[0;34m:\u001b[0m\u001b[0;34m\u001b[0m\u001b[0;34m\u001b[0m\u001b[0m\n\u001b[1;32m    326\u001b[0m         \u001b[0mncalls\u001b[0m\u001b[0;34m[\u001b[0m\u001b[0;36m0\u001b[0m\u001b[0;34m]\u001b[0m \u001b[0;34m+=\u001b[0m \u001b[0;36m1\u001b[0m\u001b[0;34m\u001b[0m\u001b[0;34m\u001b[0m\u001b[0m\n\u001b[0;32m--> 327\u001b[0;31m         \u001b[0;32mreturn\u001b[0m \u001b[0mfunction\u001b[0m\u001b[0;34m(\u001b[0m\u001b[0;34m*\u001b[0m\u001b[0;34m(\u001b[0m\u001b[0mwrapper_args\u001b[0m \u001b[0;34m+\u001b[0m \u001b[0margs\u001b[0m\u001b[0;34m)\u001b[0m\u001b[0;34m)\u001b[0m\u001b[0;34m\u001b[0m\u001b[0;34m\u001b[0m\u001b[0m\n\u001b[0m\u001b[1;32m    328\u001b[0m \u001b[0;34m\u001b[0m\u001b[0m\n\u001b[1;32m    329\u001b[0m     \u001b[0;32mreturn\u001b[0m \u001b[0mncalls\u001b[0m\u001b[0;34m,\u001b[0m \u001b[0mfunction_wrapper\u001b[0m\u001b[0;34m\u001b[0m\u001b[0;34m\u001b[0m\u001b[0m\n",
      "\u001b[0;32m~/.conda/envs/sniparenv/lib/python3.7/site-packages/scipy/optimize/optimize.py\u001b[0m in \u001b[0;36m__call__\u001b[0;34m(self, x, *args)\u001b[0m\n\u001b[1;32m     63\u001b[0m     \u001b[0;32mdef\u001b[0m \u001b[0m__call__\u001b[0m\u001b[0;34m(\u001b[0m\u001b[0mself\u001b[0m\u001b[0;34m,\u001b[0m \u001b[0mx\u001b[0m\u001b[0;34m,\u001b[0m \u001b[0;34m*\u001b[0m\u001b[0margs\u001b[0m\u001b[0;34m)\u001b[0m\u001b[0;34m:\u001b[0m\u001b[0;34m\u001b[0m\u001b[0;34m\u001b[0m\u001b[0m\n\u001b[1;32m     64\u001b[0m         \u001b[0mself\u001b[0m\u001b[0;34m.\u001b[0m\u001b[0mx\u001b[0m \u001b[0;34m=\u001b[0m \u001b[0mnumpy\u001b[0m\u001b[0;34m.\u001b[0m\u001b[0masarray\u001b[0m\u001b[0;34m(\u001b[0m\u001b[0mx\u001b[0m\u001b[0;34m)\u001b[0m\u001b[0;34m.\u001b[0m\u001b[0mcopy\u001b[0m\u001b[0;34m(\u001b[0m\u001b[0;34m)\u001b[0m\u001b[0;34m\u001b[0m\u001b[0;34m\u001b[0m\u001b[0m\n\u001b[0;32m---> 65\u001b[0;31m         \u001b[0mfg\u001b[0m \u001b[0;34m=\u001b[0m \u001b[0mself\u001b[0m\u001b[0;34m.\u001b[0m\u001b[0mfun\u001b[0m\u001b[0;34m(\u001b[0m\u001b[0mx\u001b[0m\u001b[0;34m,\u001b[0m \u001b[0;34m*\u001b[0m\u001b[0margs\u001b[0m\u001b[0;34m)\u001b[0m\u001b[0;34m\u001b[0m\u001b[0;34m\u001b[0m\u001b[0m\n\u001b[0m\u001b[1;32m     66\u001b[0m         \u001b[0mself\u001b[0m\u001b[0;34m.\u001b[0m\u001b[0mjac\u001b[0m \u001b[0;34m=\u001b[0m \u001b[0mfg\u001b[0m\u001b[0;34m[\u001b[0m\u001b[0;36m1\u001b[0m\u001b[0;34m]\u001b[0m\u001b[0;34m\u001b[0m\u001b[0;34m\u001b[0m\u001b[0m\n\u001b[1;32m     67\u001b[0m         \u001b[0;32mreturn\u001b[0m \u001b[0mfg\u001b[0m\u001b[0;34m[\u001b[0m\u001b[0;36m0\u001b[0m\u001b[0;34m]\u001b[0m\u001b[0;34m\u001b[0m\u001b[0;34m\u001b[0m\u001b[0m\n",
      "\u001b[0;32m/disk/homedirs/nber/harij/gitrepos/SNIPar/ldsc_reg/sib_ldsc_z.py\u001b[0m in \u001b[0;36mneglike_wrapper\u001b[0;34m(V, z, S, l, u, f, M)\u001b[0m\n\u001b[1;32m    276\u001b[0m \u001b[0;34m\u001b[0m\u001b[0m\n\u001b[1;32m    277\u001b[0m     logll, Gvec = neg_logll_grad(V, z, S, \n\u001b[0;32m--> 278\u001b[0;31m                                 l, u, M)\n\u001b[0m\u001b[1;32m    279\u001b[0m \u001b[0;34m\u001b[0m\u001b[0m\n\u001b[1;32m    280\u001b[0m     \u001b[0;32mreturn\u001b[0m \u001b[0mlogll\u001b[0m\u001b[0;34m,\u001b[0m \u001b[0mGvec\u001b[0m\u001b[0;34m\u001b[0m\u001b[0;34m\u001b[0m\u001b[0m\n",
      "\u001b[0;32m~/.conda/envs/sniparenv/lib/python3.7/site-packages/numba/dispatcher.py\u001b[0m in \u001b[0;36m_compile_for_args\u001b[0;34m(self, *args, **kws)\u001b[0m\n\u001b[1;32m    399\u001b[0m                 \u001b[0me\u001b[0m\u001b[0;34m.\u001b[0m\u001b[0mpatch_message\u001b[0m\u001b[0;34m(\u001b[0m\u001b[0mmsg\u001b[0m\u001b[0;34m)\u001b[0m\u001b[0;34m\u001b[0m\u001b[0;34m\u001b[0m\u001b[0m\n\u001b[1;32m    400\u001b[0m \u001b[0;34m\u001b[0m\u001b[0m\n\u001b[0;32m--> 401\u001b[0;31m             \u001b[0merror_rewrite\u001b[0m\u001b[0;34m(\u001b[0m\u001b[0me\u001b[0m\u001b[0;34m,\u001b[0m \u001b[0;34m'typing'\u001b[0m\u001b[0;34m)\u001b[0m\u001b[0;34m\u001b[0m\u001b[0;34m\u001b[0m\u001b[0m\n\u001b[0m\u001b[1;32m    402\u001b[0m         \u001b[0;32mexcept\u001b[0m \u001b[0merrors\u001b[0m\u001b[0;34m.\u001b[0m\u001b[0mUnsupportedError\u001b[0m \u001b[0;32mas\u001b[0m \u001b[0me\u001b[0m\u001b[0;34m:\u001b[0m\u001b[0;34m\u001b[0m\u001b[0;34m\u001b[0m\u001b[0m\n\u001b[1;32m    403\u001b[0m             \u001b[0;31m# Something unsupported is present in the user code, add help info\u001b[0m\u001b[0;34m\u001b[0m\u001b[0;34m\u001b[0m\u001b[0;34m\u001b[0m\u001b[0m\n",
      "\u001b[0;32m~/.conda/envs/sniparenv/lib/python3.7/site-packages/numba/dispatcher.py\u001b[0m in \u001b[0;36merror_rewrite\u001b[0;34m(e, issue_type)\u001b[0m\n\u001b[1;32m    342\u001b[0m                 \u001b[0;32mraise\u001b[0m \u001b[0me\u001b[0m\u001b[0;34m\u001b[0m\u001b[0;34m\u001b[0m\u001b[0m\n\u001b[1;32m    343\u001b[0m             \u001b[0;32melse\u001b[0m\u001b[0;34m:\u001b[0m\u001b[0;34m\u001b[0m\u001b[0;34m\u001b[0m\u001b[0m\n\u001b[0;32m--> 344\u001b[0;31m                 \u001b[0mreraise\u001b[0m\u001b[0;34m(\u001b[0m\u001b[0mtype\u001b[0m\u001b[0;34m(\u001b[0m\u001b[0me\u001b[0m\u001b[0;34m)\u001b[0m\u001b[0;34m,\u001b[0m \u001b[0me\u001b[0m\u001b[0;34m,\u001b[0m \u001b[0;32mNone\u001b[0m\u001b[0;34m)\u001b[0m\u001b[0;34m\u001b[0m\u001b[0;34m\u001b[0m\u001b[0m\n\u001b[0m\u001b[1;32m    345\u001b[0m \u001b[0;34m\u001b[0m\u001b[0m\n\u001b[1;32m    346\u001b[0m         \u001b[0margtypes\u001b[0m \u001b[0;34m=\u001b[0m \u001b[0;34m[\u001b[0m\u001b[0;34m]\u001b[0m\u001b[0;34m\u001b[0m\u001b[0;34m\u001b[0m\u001b[0m\n",
      "\u001b[0;32m~/.conda/envs/sniparenv/lib/python3.7/site-packages/numba/six.py\u001b[0m in \u001b[0;36mreraise\u001b[0;34m(tp, value, tb)\u001b[0m\n\u001b[1;32m    666\u001b[0m             \u001b[0mvalue\u001b[0m \u001b[0;34m=\u001b[0m \u001b[0mtp\u001b[0m\u001b[0;34m(\u001b[0m\u001b[0;34m)\u001b[0m\u001b[0;34m\u001b[0m\u001b[0;34m\u001b[0m\u001b[0m\n\u001b[1;32m    667\u001b[0m         \u001b[0;32mif\u001b[0m \u001b[0mvalue\u001b[0m\u001b[0;34m.\u001b[0m\u001b[0m__traceback__\u001b[0m \u001b[0;32mis\u001b[0m \u001b[0;32mnot\u001b[0m \u001b[0mtb\u001b[0m\u001b[0;34m:\u001b[0m\u001b[0;34m\u001b[0m\u001b[0;34m\u001b[0m\u001b[0m\n\u001b[0;32m--> 668\u001b[0;31m             \u001b[0;32mraise\u001b[0m \u001b[0mvalue\u001b[0m\u001b[0;34m.\u001b[0m\u001b[0mwith_traceback\u001b[0m\u001b[0;34m(\u001b[0m\u001b[0mtb\u001b[0m\u001b[0;34m)\u001b[0m\u001b[0;34m\u001b[0m\u001b[0;34m\u001b[0m\u001b[0m\n\u001b[0m\u001b[1;32m    669\u001b[0m         \u001b[0;32mraise\u001b[0m \u001b[0mvalue\u001b[0m\u001b[0;34m\u001b[0m\u001b[0;34m\u001b[0m\u001b[0m\n\u001b[1;32m    670\u001b[0m \u001b[0;34m\u001b[0m\u001b[0m\n",
      "\u001b[0;31mTypingError\u001b[0m: Failed in nopython mode pipeline (step: nopython frontend)\n\u001b[1mUntyped global name 'N':\u001b[0m \u001b[1m\u001b[1mcannot determine Numba type of <class 'numba.ir.UndefinedType'>\u001b[0m\n\u001b[1m\nFile \"sib_ldsc_z.py\", line 256:\u001b[0m\n\u001b[1mdef neg_logll_grad(V, z, S, l, u, M):\n    <source elided>\n\n\u001b[1m    for i in prange(N):\n\u001b[0m    \u001b[1m^\u001b[0m\u001b[0m\n\u001b[0m"
     ]
    }
   ],
   "source": [
    "import h5py\n",
    "import pandas as pd\n",
    "\n",
    "filenames = \"/disk/genetics/ukb/alextisyoung/haplotypes/simulated_pops_large/from_chr1_to_chr23_start0_endNone_run0_p0-0_ab_corr0-5_vb0-25_length2/phenotype_dir_par_corr_0.5/1/chr_*.hdf5\"\n",
    "files = glob.glob(filenames)\n",
    "\n",
    "file = files[0]\n",
    "print(\"Reading in file: \", file)\n",
    "hf = h5py.File(file, 'r')\n",
    "metadata = hf.get(\"bim\")[()]\n",
    "chromosome = metadata[:, 0]\n",
    "snp = metadata[:, 1]\n",
    "bp = metadata[:, 3]\n",
    "theta  = hf.get('estimate')[()]\n",
    "se  = hf.get('estimate_ses')[()]\n",
    "N = hf.get('N_L')[()]\n",
    "S = hf.get('estimate_covariance')[()]\n",
    "f = hf.get('freqs')[()]\n",
    "\n",
    "# normalizing S\n",
    "sigma2 = hf.get('sigma2')[()]\n",
    "tau = hf.get('tau')[()]\n",
    "phvar = sigma2+sigma2/tau\n",
    "\n",
    "if len(files) > 1:\n",
    "    for file in files[1:]:\n",
    "        print(\"Reading in file: \", file)\n",
    "        hf = h5py.File(file, 'r')\n",
    "        metadata = hf.get(\"bim\")[()]\n",
    "        chromosome_file = metadata[:, 0]  \n",
    "        snp_file = metadata[:, 1]\n",
    "        bp_file = metadata[:, 3]\n",
    "        theta_file  = hf.get('estimate')[()]\n",
    "        se_file  = hf.get('estimate_ses')[()]\n",
    "        S_file = hf.get('estimate_covariance')[()]\n",
    "        f_file = hf.get('freqs')[()]\n",
    "        N_file = hf.get('N_L')[()]\n",
    "\n",
    "        # normalizing S\n",
    "        sigma2 = hf.get('sigma2')[()]\n",
    "        tau = hf.get('tau')[()]\n",
    "\n",
    "        chromosome = np.append(chromosome, chromosome_file, axis = 0)\n",
    "        snp = np.append(snp, snp_file, axis = 0)\n",
    "        bp = np.append(bp, bp_file, axis = 0)\n",
    "        theta = np.append(theta, theta_file, axis = 0)\n",
    "        se = np.append(se, se_file, axis = 0)\n",
    "        S = np.append(S, S_file, axis = 0)\n",
    "        f = np.append(f, f_file, axis = 0)\n",
    "        N = np.append(N, N_file, axis = 0)\n",
    "\n",
    "# Constructing dataframe of data\n",
    "zdata = pd.DataFrame({'CHR' : chromosome,\n",
    "                    'SNP' : snp,\n",
    "                    'BP' : bp,\n",
    "                    'N' : N,\n",
    "                    \"f\" : f,\n",
    "                    'theta' : theta.tolist(),\n",
    "                    'se' : se.tolist(),\n",
    "                    \"S\" : S.tolist()})\n",
    "\n",
    "\n",
    "# cleaning up a bit\n",
    "zdata['CHR'] = zdata['CHR'].astype(int)\n",
    "zdata['SNP'] = zdata['SNP'].astype(str).str.replace(\"b'\", \"\").str[:-1]\n",
    "zdata['BP'] = zdata['BP'].astype(str).str.replace(\"b'\", \"\").str[:-1]\n",
    "zdata['BP'] = zdata['BP'].astype('int')\n",
    "\n",
    "# sorting by chromosome\n",
    "zdata = zdata.sort_values(by = ['CHR']).reset_index(drop = True)\n",
    "zdata['ordering'] = zdata.index\n",
    "\n",
    "\n",
    "zdata_n_message = f\"Number of Observations before merging LD-Scores, before removing low MAF SNPs: {zdata.shape[0]}\"\n",
    "\n",
    "print(zdata_n_message)\n",
    "\n",
    "# dropping obs based on MAF\n",
    "# zdata = zdata[zdata['f'] >= args.maf/100.0]\n",
    "\n",
    "zdata_n_message = f\"Number of Observations before merging LD-Scores, after removing low MAF SNPs: {zdata.shape[0]}\"\n",
    "\n",
    "print(zdata_n_message)\n",
    "\n",
    "# == Reading in LD Scores == #\n",
    "ldscore_path = \"/disk/genetics/ukb/alextisyoung/haplotypes/simulated_pops_large/from_chr1_to_chr23_start0_endNone_run0_p0-0_ab_corr0-5_vb0-25_length2/ldscores/*[0-9].l2.ldscore.gz\"\n",
    "ldcolnames = [\"CHR\", \"SNP\", \"BP\", \"L2\"]\n",
    "ldscores= ld.read_ldscores(ldscore_path, ldcolnames)\n",
    "# ldscores['BP'] = ldscores['BP'].astype('int')\n",
    "\n",
    "# Merging LD scores with main Data Frame\n",
    "main_df = zdata.merge(ldscores, how = \"inner\", on = [\"CHR\", \"SNP\"])\n",
    "main_df = main_df.sort_values(by = ['ordering'])\n",
    "\n",
    "# dropping NAs\n",
    "main_df = main_df.dropna()\n",
    "\n",
    "S = np.array(list(main_df.S)) \n",
    "theta = np.array(list(main_df.theta))\n",
    "f = np.array(list(main_df[\"f\"]))\n",
    "l = np.array(list(main_df[\"L2\"]))\n",
    "u = np.array(list(main_df[\"L2\"]))\n",
    "\n",
    "M = len(S)\n",
    "\n",
    "S, theta = ld.transform_estimates(\"direct_plus_averageparental\", S, theta)\n",
    "\n",
    "zval = ld.theta2z(theta, S, M = M)\n",
    "\n",
    "model = ld.sibreg(S = S, \n",
    "                z = zval, \n",
    "                l = l,\n",
    "                f = f,\n",
    "                u = u,\n",
    "                M = M) \n",
    "\n",
    "output_matrix, result = model.solve(est_init = np.array([phvar/2, phvar/2, 0.0]),\n",
    "                                    rbounds = True)\n",
    "\n",
    "\n",
    "estimates = {'v1' : output_matrix['v1'],\n",
    "            'v2' : output_matrix['v2'],\n",
    "            'r' : output_matrix['r']}\n",
    "\n",
    "std_errors = np.diag(output_matrix['std_err_mat'])\n",
    "\n",
    "nblocks_blocksize = np.ceil(zval.shape[0]/200)\n",
    "blocksize = int(nblocks_blocksize)"
   ]
  },
  {
   "cell_type": "code",
   "execution_count": null,
   "metadata": {},
   "outputs": [],
   "source": [
    "# reading in ldsc estimates\n",
    "path2sim = f\"/disk/genetics/ukb/alextisyoung/haplotypes/simulated_pops_large/from_chr1_to_chr23_start0_endNone_run0_p0-0_ab_corr0-5_vb0-25_length2/phenotype_dir_par_corr_0.5/1\"\n",
    "names = [\"estimate\"]\n",
    "gencov_del = pd.read_csv(f\"{path2sim}/rg_delta_eta_par_constraindelta.sumstats_eta_par.sumstats.gencov.delete\", \n",
    "                        names = names)\n",
    "hsq1_del = pd.read_csv(f\"{path2sim}/rg_delta_eta_par_constraindelta.sumstats_eta_par.sumstats.hsq1.delete\", \n",
    "                        names = names)\n",
    "hsq2_del = pd.read_csv(f\"{path2sim}/rg_delta_eta_par_constraindelta.sumstats_eta_par.sumstats.hsq2.delete\", \n",
    "                        names = names)\n",
    "rg_del = gencov_del[\"estimate\"]/np.sqrt(hsq1_del[\"estimate\"] * hsq2_del[\"estimate\"])"
   ]
  },
  {
   "cell_type": "markdown",
   "metadata": {},
   "source": [
    "Exploring JKSE"
   ]
  },
  {
   "cell_type": "code",
   "execution_count": null,
   "metadata": {},
   "outputs": [],
   "source": [
    "from functools import partial\n",
    "import multiprocessing as mp\n",
    "\n",
    "nblocks = int(np.ceil(model.z.shape[0]/blocksize))\n",
    "indices = list(range(model.z.shape[0]))\n",
    "index_blocks = [indices[i * blocksize:(i + 1) * blocksize - 1] for i in range((len(indices) + blocksize - 1) // blocksize )]\n",
    "\n",
    "full_est = np.array([output_matrix['v1'], output_matrix['v2'], output_matrix['r']])\n",
    "\n",
    "# jkse_toparallelize = partial(ld.jkse_core, model = model, full_est = full_est, rbounds = True)\n",
    "\n",
    "# num_procs = 4\n",
    "# pool = mp.Pool(num_procs)\n",
    "# estimates_jk = pool.map(jkse_toparallelize, index_blocks)\n",
    "# estimates_jk = np.array(estimates_jk)"
   ]
  },
  {
   "cell_type": "code",
   "execution_count": 7,
   "metadata": {},
   "outputs": [
    {
     "name": "stdout",
     "output_type": "stream",
     "text": [
      "{'v1': 0.3058670881878806, 'v2': 0.3165894025408854, 'r': 0.3454441975089491, 'std_err_mat': array([[0.01293646, 0.00674641,        nan],\n",
      "       [0.00674641, 0.01033639,        nan],\n",
      "       [       nan,        nan, 0.04002383]])}\n"
     ]
    }
   ],
   "source": [
    "mask = np.ones(model.z.shape[0], dtype=bool)\n",
    "mask[index_blocks[0]] = False\n",
    "\n",
    "# z = model.z[mask]\n",
    "# S = model.S[mask]\n",
    "# l = model.l[mask]\n",
    "# u = model.u[mask]\n",
    "# f = model.f[mask] if model.f is not None else model.f\n",
    "# M = model.M\n",
    "    \n",
    "outputmask, _ = model.solve(z = model.z[mask],\n",
    "                S = model.S[mask],\n",
    "                l = model.l[mask],\n",
    "                u = model.u[mask],\n",
    "                f = model.f[mask] if model.f is not None else model.f,\n",
    "                M = model.z[mask].shape[0],\n",
    "                printout = False,\n",
    "                est_init = full_est,\n",
    "                rbounds = True)\n",
    "\n",
    "print(outputmask)\n",
    "# for index = 1 (not 0)\n",
    "# without sorting rg = 0.3410328753968764\n",
    "# with clear sorting rg = 0.340679671637823"
   ]
  },
  {
   "cell_type": "code",
   "execution_count": 8,
   "metadata": {},
   "outputs": [
    {
     "data": {
      "text/plain": [
       "      fun: 379365.03001317056\n",
       " hess_inv: <3x3 LbfgsInvHessProduct with dtype=float64>\n",
       "      jac: array([0.04990648, 0.01285654, 0.02588892])\n",
       "  message: b'CONVERGENCE: REL_REDUCTION_OF_F_<=_FACTR*EPSMCH'\n",
       "     nfev: 10\n",
       "      nit: 8\n",
       "   status: 0\n",
       "  success: True\n",
       "        x: array([0.30586709, 0.3165894 , 0.3454442 ])"
      ]
     },
     "execution_count": 8,
     "metadata": {},
     "output_type": "execute_result"
    }
   ],
   "source": [
    "_"
   ]
  },
  {
   "cell_type": "code",
   "execution_count": 9,
   "metadata": {},
   "outputs": [],
   "source": [
    "# # full snipar jkse estimate\n",
    "nblocks_blocksize = int(np.ceil(zval.shape[0]/200))\n",
    "initguess = {'v1' : phvar/2, \n",
    "             'v2' : phvar/2,\n",
    "             'r' : 0.0}\n",
    "jkse, delvals = ld.jkse(model, initguess, \n",
    "                        blocksize = nblocks_blocksize,\n",
    "                        num_procs=4,\n",
    "                        rbounds = False)"
   ]
  },
  {
   "cell_type": "code",
   "execution_count": 28,
   "metadata": {},
   "outputs": [
    {
     "data": {
      "text/plain": [
       "127    0.345376\n",
       "Name: estimate, dtype: float64"
      ]
     },
     "execution_count": 28,
     "metadata": {},
     "output_type": "execute_result"
    }
   ],
   "source": [
    "rg_del[rg_del.index == np.abs(rg_del - outputmask['r']).idxmin()]"
   ]
  },
  {
   "cell_type": "code",
   "execution_count": 10,
   "metadata": {},
   "outputs": [
    {
     "data": {
      "text/plain": [
       "array([0.01696487, 0.01662864, 0.0462541 ])"
      ]
     },
     "execution_count": 10,
     "metadata": {},
     "output_type": "execute_result"
    }
   ],
   "source": [
    "# comparing delete value distributions\n",
    "jkse"
   ]
  },
  {
   "cell_type": "code",
   "execution_count": 19,
   "metadata": {},
   "outputs": [
    {
     "data": {
      "text/plain": [
       "array([[0.30740972, 0.31818134, 0.34541018],\n",
       "       [0.30993237, 0.31940911, 0.34085257],\n",
       "       [0.30955388, 0.31710237, 0.34280553],\n",
       "       [0.30917072, 0.31977468, 0.34052168],\n",
       "       [0.31025069, 0.31958894, 0.34098526],\n",
       "       [0.30946773, 0.31889383, 0.33827771],\n",
       "       [0.30988444, 0.31959373, 0.34075467],\n",
       "       [0.30853042, 0.31670858, 0.33983478],\n",
       "       [0.31015397, 0.32002619, 0.34091304],\n",
       "       [0.3094674 , 0.31886767, 0.33593355],\n",
       "       [0.30969614, 0.31935532, 0.34088033],\n",
       "       [0.30811213, 0.31820138, 0.33917287],\n",
       "       [0.30968528, 0.31904649, 0.34073345],\n",
       "       [0.31012657, 0.32003302, 0.34127121],\n",
       "       [0.31045631, 0.31870669, 0.34146975],\n",
       "       [0.30990135, 0.31923392, 0.34100087],\n",
       "       [0.30586321, 0.31797546, 0.3407237 ],\n",
       "       [0.31078785, 0.31995051, 0.3349575 ],\n",
       "       [0.31049858, 0.31855424, 0.34113266],\n",
       "       [0.30952535, 0.31888127, 0.33783429],\n",
       "       [0.30925826, 0.31979336, 0.34052548],\n",
       "       [0.30822236, 0.31796645, 0.33881861],\n",
       "       [0.30865848, 0.32004852, 0.33925892],\n",
       "       [0.30996434, 0.32016779, 0.34098391],\n",
       "       [0.3104379 , 0.31774828, 0.33673036],\n",
       "       [0.30851098, 0.32000036, 0.33984465],\n",
       "       [0.30854207, 0.31991536, 0.34061184],\n",
       "       [0.30789959, 0.32005751, 0.33954567],\n",
       "       [0.30729463, 0.3193259 , 0.34378699],\n",
       "       [0.3079934 , 0.31807165, 0.34385991],\n",
       "       [0.30958986, 0.31918965, 0.34060827],\n",
       "       [0.30977824, 0.31956611, 0.33670313],\n",
       "       [0.30985951, 0.31913798, 0.34068362],\n",
       "       [0.3091    , 0.32024534, 0.33658694],\n",
       "       [0.309769  , 0.31891185, 0.34070057],\n",
       "       [0.30967146, 0.31920096, 0.34057043],\n",
       "       [0.31027847, 0.31989319, 0.34093721],\n",
       "       [0.30847835, 0.31800351, 0.34455295],\n",
       "       [0.31025087, 0.3184733 , 0.34097293],\n",
       "       [0.3084616 , 0.31948267, 0.33881267],\n",
       "       [0.309594  , 0.31915907, 0.34067396],\n",
       "       [0.30867571, 0.31995357, 0.33916108],\n",
       "       [0.3069722 , 0.31899662, 0.34031577],\n",
       "       [0.30889262, 0.31985583, 0.34029057],\n",
       "       [0.30974559, 0.31920392, 0.34074622],\n",
       "       [0.31071419, 0.31875761, 0.34066793],\n",
       "       [0.30964493, 0.31917809, 0.34056783],\n",
       "       [0.3107045 , 0.31869957, 0.34059237],\n",
       "       [0.31031016, 0.3195588 , 0.34111735],\n",
       "       [0.30988711, 0.3189971 , 0.34072839],\n",
       "       [0.30957191, 0.31928825, 0.34040726],\n",
       "       [0.31018754, 0.31937946, 0.34085697],\n",
       "       [0.30944149, 0.31963455, 0.34065341],\n",
       "       [0.31002961, 0.31925253, 0.34087049],\n",
       "       [0.30984616, 0.32002691, 0.34079617],\n",
       "       [0.31006728, 0.31884454, 0.34059584],\n",
       "       [0.30983937, 0.31964283, 0.34068225],\n",
       "       [0.31061039, 0.31878897, 0.34073608],\n",
       "       [0.30886386, 0.31774226, 0.34067187],\n",
       "       [0.31105186, 0.31818284, 0.34039984],\n",
       "       [0.30805119, 0.3191498 , 0.34124117],\n",
       "       [0.3100017 , 0.31884945, 0.34066765],\n",
       "       [0.30970109, 0.31814394, 0.33869763],\n",
       "       [0.31010787, 0.31930978, 0.34095021],\n",
       "       [0.31036336, 0.3181088 , 0.34079945],\n",
       "       [0.31028804, 0.31851077, 0.34072589],\n",
       "       [0.31239447, 0.31988682, 0.33369204],\n",
       "       [0.30898608, 0.31671912, 0.34406677],\n",
       "       [0.30756485, 0.31778994, 0.34201098],\n",
       "       [0.31083112, 0.31732313, 0.34075773],\n",
       "       [0.30812272, 0.31729529, 0.34397314],\n",
       "       [0.30967456, 0.31586489, 0.34675625],\n",
       "       [0.30958817, 0.31705695, 0.3412474 ],\n",
       "       [0.30673217, 0.31484385, 0.35094989],\n",
       "       [0.30890069, 0.31634337, 0.34647865],\n",
       "       [0.30887542, 0.31699962, 0.34513254],\n",
       "       [0.3105519 , 0.31798789, 0.3413142 ],\n",
       "       [0.30840621, 0.31623555, 0.34476883],\n",
       "       [0.30769147, 0.31552312, 0.34893257],\n",
       "       [0.3085912 , 0.31596182, 0.34770934],\n",
       "       [0.3094023 , 0.31564299, 0.34491762],\n",
       "       [0.30867285, 0.31798084, 0.3421419 ],\n",
       "       [0.30961048, 0.31881788, 0.33987878],\n",
       "       [0.31076281, 0.31799456, 0.34133175],\n",
       "       [0.3105517 , 0.31776588, 0.33908355],\n",
       "       [0.30919155, 0.31626191, 0.34327551],\n",
       "       [0.31012149, 0.31946555, 0.34098669],\n",
       "       [0.30723192, 0.3187518 , 0.34456901],\n",
       "       [0.3096127 , 0.31876457, 0.33861768],\n",
       "       [0.3098704 , 0.31914467, 0.34066433],\n",
       "       [0.31047322, 0.31973295, 0.34114515],\n",
       "       [0.30982544, 0.31922843, 0.34090322],\n",
       "       [0.3093762 , 0.31941696, 0.34054422],\n",
       "       [0.31017074, 0.31977493, 0.3409081 ],\n",
       "       [0.31066174, 0.31956839, 0.34100453],\n",
       "       [0.30845731, 0.31796847, 0.34184313],\n",
       "       [0.30887495, 0.31978994, 0.34027744],\n",
       "       [0.30991624, 0.31948993, 0.34088398],\n",
       "       [0.30961217, 0.31913162, 0.34058446],\n",
       "       [0.30931755, 0.31936684, 0.34052278],\n",
       "       [0.30982752, 0.31997324, 0.34104144],\n",
       "       [0.309349  , 0.31947846, 0.34056075],\n",
       "       [0.30736507, 0.31663847, 0.34683283],\n",
       "       [0.30966748, 0.32088421, 0.34092062],\n",
       "       [0.30981061, 0.31934095, 0.34087981],\n",
       "       [0.30977515, 0.3199473 , 0.34092489],\n",
       "       [0.31076797, 0.31883988, 0.34125175],\n",
       "       [0.30969847, 0.31912775, 0.34078518],\n",
       "       [0.30958537, 0.31923241, 0.34053461],\n",
       "       [0.30927642, 0.31973963, 0.34044177],\n",
       "       [0.31016561, 0.31748697, 0.33707594],\n",
       "       [0.31053712, 0.31796446, 0.34044752],\n",
       "       [0.30977925, 0.3191446 , 0.34080792],\n",
       "       [0.30956857, 0.31883137, 0.34027969],\n",
       "       [0.31007737, 0.31955306, 0.3408483 ],\n",
       "       [0.30935754, 0.31803393, 0.33751663],\n",
       "       [0.31059476, 0.31839061, 0.3408131 ],\n",
       "       [0.31016802, 0.31973627, 0.34071495],\n",
       "       [0.30959387, 0.31901702, 0.3406941 ],\n",
       "       [0.31029198, 0.31849987, 0.34031549],\n",
       "       [0.30956836, 0.31883116, 0.34056431],\n",
       "       [0.30883619, 0.31829769, 0.33821326],\n",
       "       [0.30955351, 0.31881586, 0.34043203],\n",
       "       [0.31017422, 0.31975857, 0.34125927],\n",
       "       [0.30998275, 0.31964808, 0.34098273],\n",
       "       [0.3080586 , 0.31795619, 0.34160924],\n",
       "       [0.3101293 , 0.31951895, 0.34093055],\n",
       "       [0.30968665, 0.31971441, 0.34108323],\n",
       "       [0.30842024, 0.31748118, 0.3443751 ],\n",
       "       [0.30960508, 0.3173634 , 0.34213613],\n",
       "       [0.30803446, 0.31945228, 0.34121158],\n",
       "       [0.3080563 , 0.32063925, 0.33691029],\n",
       "       [0.30922749, 0.31958751, 0.3394871 ],\n",
       "       [0.30914289, 0.32025818, 0.34048725],\n",
       "       [0.30977557, 0.3180611 , 0.34014433],\n",
       "       [0.30914104, 0.3194307 , 0.34029668],\n",
       "       [0.31003456, 0.31911008, 0.34091515],\n",
       "       [0.30839128, 0.31989357, 0.34034347],\n",
       "       [0.30958396, 0.31874027, 0.33733109],\n",
       "       [0.30982824, 0.31948617, 0.34080885],\n",
       "       [0.31026833, 0.31987253, 0.33425387],\n",
       "       [0.31061451, 0.3200361 , 0.34110991],\n",
       "       [0.30956489, 0.31882759, 0.34034165],\n",
       "       [0.31009005, 0.31952908, 0.34087672],\n",
       "       [0.30957029, 0.31882165, 0.33995034],\n",
       "       [0.30985541, 0.31890881, 0.340742  ],\n",
       "       [0.3092847 , 0.31748073, 0.3405502 ],\n",
       "       [0.31018648, 0.31865315, 0.34040533],\n",
       "       [0.31046497, 0.31902511, 0.34089136],\n",
       "       [0.31121015, 0.31804222, 0.33991774],\n",
       "       [0.31091516, 0.31850514, 0.34049339],\n",
       "       [0.3086295 , 0.31888587, 0.33753936],\n",
       "       [0.3096185 , 0.31875003, 0.34004675],\n",
       "       [0.3107153 , 0.31973139, 0.33489156],\n",
       "       [0.31037733, 0.31953914, 0.33526484],\n",
       "       [0.31113168, 0.31925551, 0.34095414],\n",
       "       [0.31260314, 0.31990903, 0.33498696],\n",
       "       [0.30988734, 0.31894425, 0.3406629 ],\n",
       "       [0.31012691, 0.31953372, 0.34094665],\n",
       "       [0.30957578, 0.3188388 , 0.34042872],\n",
       "       [0.30995565, 0.31902393, 0.34056938],\n",
       "       [0.31116673, 0.3190946 , 0.34078224],\n",
       "       [0.31163904, 0.31954434, 0.33499314],\n",
       "       [0.31034742, 0.31853155, 0.34016551],\n",
       "       [0.30950708, 0.31887202, 0.34020868],\n",
       "       [0.30846145, 0.31745131, 0.34428019],\n",
       "       [0.31065771, 0.31849594, 0.34074873],\n",
       "       [0.30978224, 0.3176064 , 0.34019035],\n",
       "       [0.31065073, 0.31964686, 0.34100526],\n",
       "       [0.31096793, 0.31993618, 0.34093253],\n",
       "       [0.31097037, 0.31900487, 0.34177302],\n",
       "       [0.31071668, 0.31944892, 0.3410644 ],\n",
       "       [0.31055743, 0.31933781, 0.34095443],\n",
       "       [0.30987366, 0.31943981, 0.34098684],\n",
       "       [0.31037481, 0.31955418, 0.34084978],\n",
       "       [0.31097835, 0.31872418, 0.33629583],\n",
       "       [0.31189192, 0.31891081, 0.33491009],\n",
       "       [0.30939789, 0.31945203, 0.34069896],\n",
       "       [0.30994412, 0.31980133, 0.34093542],\n",
       "       [0.30871404, 0.3200775 , 0.33892048],\n",
       "       [0.31043489, 0.319504  , 0.34099948],\n",
       "       [0.30900496, 0.31980161, 0.34049772],\n",
       "       [0.3103544 , 0.31939546, 0.34077165],\n",
       "       [0.31030006, 0.31846498, 0.34073316],\n",
       "       [0.30958591, 0.31871145, 0.33787796],\n",
       "       [0.30997406, 0.31888826, 0.34072449],\n",
       "       [0.3103388 , 0.31931043, 0.34108329],\n",
       "       [0.30674888, 0.3173096 , 0.34706666],\n",
       "       [0.30923891, 0.31804821, 0.34106633],\n",
       "       [0.30826313, 0.31610692, 0.34687521],\n",
       "       [0.30595388, 0.31707408, 0.34363979],\n",
       "       [0.3094982 , 0.31869502, 0.33730579],\n",
       "       [0.30799167, 0.31660629, 0.34687032],\n",
       "       [0.31031218, 0.31962838, 0.34063372],\n",
       "       [0.30717658, 0.31913816, 0.34125914],\n",
       "       [0.30982928, 0.3195211 , 0.34085397],\n",
       "       [0.30962977, 0.31892599, 0.34091156],\n",
       "       [0.30966122, 0.32114563, 0.34111274],\n",
       "       [0.31003273, 0.31951955, 0.34060251],\n",
       "       [0.3098834 , 0.31922966, 0.34075479]])"
      ]
     },
     "execution_count": 19,
     "metadata": {},
     "output_type": "execute_result"
    }
   ],
   "source": [
    "delvals"
   ]
  },
  {
   "cell_type": "markdown",
   "metadata": {},
   "source": [
    "- Calculate correlation between block estimtes\n",
    "- Change M for every jk block\n",
    "- Change init values"
   ]
  },
  {
   "cell_type": "code",
   "execution_count": 11,
   "metadata": {},
   "outputs": [
    {
     "data": {
      "text/plain": [
       "array([[1.        , 0.09536757],\n",
       "       [0.09536757, 1.        ]])"
      ]
     },
     "execution_count": 11,
     "metadata": {},
     "output_type": "execute_result"
    }
   ],
   "source": [
    "np.corrcoef(delvals[..., 2], rg_del.values)"
   ]
  },
  {
   "cell_type": "code",
   "execution_count": 12,
   "metadata": {},
   "outputs": [
    {
     "data": {
      "text/plain": [
       "array([0.34713398, 0.33741241, 0.34681741, 0.33867618, 0.33620526,\n",
       "       0.33318202, 0.34526388, 0.33589234, 0.3371042 , 0.34686052,\n",
       "       0.35716263, 0.32961551, 0.34273895, 0.34655593, 0.34103081,\n",
       "       0.34182754, 0.3418814 , 0.3435188 , 0.34599655, 0.33539541,\n",
       "       0.33722676, 0.34709334, 0.3336369 , 0.33609762, 0.33569316,\n",
       "       0.33460305, 0.3385154 , 0.34119502, 0.33823708, 0.333155  ,\n",
       "       0.33987962, 0.34495661, 0.34030078, 0.33709012, 0.33952857,\n",
       "       0.34147676, 0.34281622, 0.34597906, 0.33518104, 0.33830761,\n",
       "       0.34025443, 0.33741451, 0.3374863 , 0.3350925 , 0.3423217 ,\n",
       "       0.33975118, 0.33696308, 0.34954049, 0.33564404, 0.32847707,\n",
       "       0.34082219, 0.34369635, 0.33718689, 0.33915264, 0.33376564,\n",
       "       0.33897504, 0.33520935, 0.34330414, 0.34190426, 0.33751109,\n",
       "       0.33777716, 0.33666369, 0.33799983, 0.34234492, 0.33973364,\n",
       "       0.3414097 , 0.34127653, 0.33801977, 0.3381206 , 0.33429567,\n",
       "       0.4486554 , 0.32411978, 0.33841577, 0.34460174, 0.33723949,\n",
       "       0.34109119, 0.33949092, 0.33697405, 0.3409366 , 0.33945557,\n",
       "       0.33785895, 0.32926298, 0.34310399, 0.34119657, 0.3457275 ,\n",
       "       0.34185267, 0.33667363, 0.3430866 , 0.34415353, 0.34074652,\n",
       "       0.340219  , 0.3376328 , 0.35265711, 0.33892663, 0.34247837,\n",
       "       0.33119738, 0.33373717, 0.33565757, 0.34340907, 0.33841454,\n",
       "       0.34854295, 0.33357379, 0.34507432, 0.33954854, 0.33472288,\n",
       "       0.33813474, 0.34341577, 0.34596125, 0.3452595 , 0.34397372,\n",
       "       0.33446777, 0.33989963, 0.33763248, 0.35373432, 0.33434526,\n",
       "       0.33858793, 0.33797426, 0.34848999, 0.33599099, 0.33561453,\n",
       "       0.33935347, 0.34839649, 0.3439138 , 0.33487919, 0.3463374 ,\n",
       "       0.34403886, 0.34193248, 0.34537613, 0.32961232, 0.35133504,\n",
       "       0.34033653, 0.34192762, 0.34365204, 0.34006137, 0.32986722,\n",
       "       0.33439324, 0.34006567, 0.34270173, 0.33066039, 0.33867514,\n",
       "       0.342413  , 0.33747975, 0.33921472, 0.33941144, 0.33963556,\n",
       "       0.34337516, 0.33891062, 0.33899022, 0.33648427, 0.34451984,\n",
       "       0.3338681 , 0.33912555, 0.3375768 , 0.33425807, 0.33512611,\n",
       "       0.33332539, 0.34229677, 0.33570633, 0.33569606, 0.33953698,\n",
       "       0.34007252, 0.3436588 , 0.33271234, 0.33730443, 0.34155064,\n",
       "       0.33422282, 0.33703039, 0.3403527 , 0.34568633, 0.34317494,\n",
       "       0.33951177, 0.33885742, 0.33832252, 0.34021679, 0.34041968,\n",
       "       0.33765656, 0.34594462, 0.33203946, 0.34311214, 0.33618293,\n",
       "       0.33746779, 0.34129265, 0.33963165, 0.342695  , 0.33996478,\n",
       "       0.33713003, 0.3354327 , 0.33623972, 0.34436453, 0.35345688,\n",
       "       0.34402949, 0.3369369 , 0.34492331, 0.33990374, 0.33939328,\n",
       "       0.34125973, 0.33877664, 0.34242213, 0.33808617, 0.34141704])"
      ]
     },
     "execution_count": 12,
     "metadata": {},
     "output_type": "execute_result"
    }
   ],
   "source": [
    "rg_del.values"
   ]
  },
  {
   "cell_type": "code",
   "execution_count": 18,
   "metadata": {},
   "outputs": [
    {
     "ename": "NameError",
     "evalue": "name 'hsq1' is not defined",
     "output_type": "error",
     "traceback": [
      "\u001b[0;31m---------------------------------------------------------------------------\u001b[0m",
      "\u001b[0;31mNameError\u001b[0m                                 Traceback (most recent call last)",
      "\u001b[0;32m<ipython-input-18-9efc0ebacbff>\u001b[0m in \u001b[0;36m<module>\u001b[0;34m\u001b[0m\n\u001b[0;32m----> 1\u001b[0;31m \u001b[0mnp\u001b[0m\u001b[0;34m.\u001b[0m\u001b[0mcorrcoef\u001b[0m\u001b[0;34m(\u001b[0m\u001b[0mdelvals\u001b[0m\u001b[0;34m[\u001b[0m\u001b[0;34m...\u001b[0m\u001b[0;34m,\u001b[0m \u001b[0;36m1\u001b[0m\u001b[0;34m]\u001b[0m\u001b[0;34m,\u001b[0m \u001b[0mhsq1\u001b[0m\u001b[0;34m.\u001b[0m\u001b[0mvalues\u001b[0m\u001b[0;34m)\u001b[0m\u001b[0;34m\u001b[0m\u001b[0;34m\u001b[0m\u001b[0m\n\u001b[0m",
      "\u001b[0;31mNameError\u001b[0m: name 'hsq1' is not defined"
     ]
    }
   ],
   "source": [
    "np.corrcoef(delvals[..., 1], hsq1.values)"
   ]
  },
  {
   "cell_type": "code",
   "execution_count": 20,
   "metadata": {},
   "outputs": [],
   "source": [
    "import seaborn as sns"
   ]
  },
  {
   "cell_type": "code",
   "execution_count": 15,
   "metadata": {},
   "outputs": [
    {
     "data": {
      "text/plain": [
       "<matplotlib.legend.Legend at 0x7faa30418790>"
      ]
     },
     "execution_count": 15,
     "metadata": {},
     "output_type": "execute_result"
    },
    {
     "data": {
      "image/png": "[encoded data removed]",
      "text/plain": [
       "<Figure size 432x288 with 1 Axes>"
      ]
     },
     "metadata": {
      "needs_background": "light"
     },
     "output_type": "display_data"
    }
   ],
   "source": [
    "sns.distplot(delvals[..., 2], label = \"SNIPAR\")\n",
    "sns.distplot(rg_del.values, label = \"LDSC\")\n",
    "plt.legend()"
   ]
  },
  {
   "cell_type": "code",
   "execution_count": 16,
   "metadata": {},
   "outputs": [
    {
     "data": {
      "text/plain": [
       "<matplotlib.legend.Legend at 0x7faa381a8bd0>"
      ]
     },
     "execution_count": 16,
     "metadata": {},
     "output_type": "execute_result"
    },
    {
     "data": {
      "image/png": "[encoded data removed]",
      "text/plain": [
       "<Figure size 432x288 with 1 Axes>"
      ]
     },
     "metadata": {
      "needs_background": "light"
     },
     "output_type": "display_data"
    }
   ],
   "source": [
    "plt.scatter(np.linspace(1, 200, 200), delvals[..., 2], alpha = 0.3, label = \"SNIPAR\")\n",
    "plt.scatter(np.linspace(1, 200, 200),rg_del.values, alpha = 0.3, label = \"LDSC\")\n",
    "plt.legend()"
   ]
  },
  {
   "cell_type": "code",
   "execution_count": 18,
   "metadata": {},
   "outputs": [
    {
     "name": "stdout",
     "output_type": "stream",
     "text": [
      "SD of SNIPAR Delete vals: 0.0032788661318404405\n",
      "SD of LDSC Delete vals: 0.009051502129932507\n"
     ]
    }
   ],
   "source": [
    "print(f\"SD of SNIPAR Delete vals: {np.std(delvals[..., 2])}\")\n",
    "print(f\"SD of LDSC Delete vals: {np.std(rg_del.values)}\")"
   ]
  }
 ],
 "metadata": {
  "kernelspec": {
   "display_name": "Python 3",
   "language": "python",
   "name": "python3"
  },
  "language_info": {
   "codemirror_mode": {
    "name": "ipython",
    "version": 3
   },
   "file_extension": ".py",
   "mimetype": "text/x-python",
   "name": "python",
   "nbconvert_exporter": "python",
   "pygments_lexer": "ipython3",
   "version": "3.7.6"
  }
 },
 "nbformat": 4,
 "nbformat_minor": 4
}
