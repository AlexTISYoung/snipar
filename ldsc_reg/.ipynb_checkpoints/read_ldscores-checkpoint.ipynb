{
 "cells": [
  {
   "cell_type": "code",
   "execution_count": 8,
   "metadata": {},
   "outputs": [
    {
     "data": {
      "text/plain": [
       "<module 'sib_ldsc_z' from 'C:\\\\Users\\\\Hariharan\\\\Documents\\\\git_repos\\\\SNIPar\\\\ldsc_reg\\\\inferz\\\\sib_ldsc_z.py'>"
      ]
     },
     "execution_count": 8,
     "metadata": {},
     "output_type": "execute_result"
    }
   ],
   "source": [
    "import helperfuncs as hp\n",
    "import numpy as np\n",
    "import pandas as pd\n",
    "import sib_ldsc_z as ld\n",
    "from importlib import reload\n",
    "import glob\n",
    "reload(ld)"
   ]
  },
  {
   "cell_type": "code",
   "execution_count": 3,
   "metadata": {},
   "outputs": [],
   "source": [
    "ldscore_path = \"C:/Users/Hariharan/Documents/genoecon_work/snipardata/ldscores/eur_w_ld_chr\""
   ]
  },
  {
   "cell_type": "code",
   "execution_count": null,
   "metadata": {},
   "outputs": [],
   "source": [
    "def M(fh, num=None, N=2, common=False):\n",
    "    '''Parses .l{N}.M files, split across num chromosomes. See docs/file_formats_ld.txt.'''\n",
    "    parsefunc = lambda y: [float(z) for z in open(y, 'r').readline().split()]\n",
    "    suffix = '.l' + str(N) + '.M'\n",
    "    suffix += '_5_50'\n",
    "\n",
    "    if num is not None:\n",
    "        x = np.sum([parsefunc(sub_chr(fh, i) + suffix) for i in get_present_chrs(fh, num+1)], axis=0)\n",
    "    else:\n",
    "        x = parsefunc(fh + suffix)\n",
    "\n",
    "    return np.array(x).reshape((1, len(x)))"
   ]
  },
  {
   "cell_type": "code",
   "execution_count": 39,
   "metadata": {},
   "outputs": [],
   "source": [
    "# Reading LD Scores\n",
    "\n",
    "files = glob.glob(f\"{ldscore_path}/*[0-9].l2.ldscore.gz\")\n",
    "snp = pd.DataFrame(columns = [\"CHR\", \"SNP\", \"BP\", \"CM\", \"MAF\", \"L2\"])\n",
    "\n",
    "for file in files:\n",
    "    snpi = pd.read_csv(file, compression='gzip', sep = \"\\t\")\n",
    "    snp = pd.concat([snp, snpi])"
   ]
  },
  {
   "cell_type": "code",
   "execution_count": 49,
   "metadata": {},
   "outputs": [
    {
     "data": {
      "text/html": [
       "<div>\n",
       "<style scoped>\n",
       "    .dataframe tbody tr th:only-of-type {\n",
       "        vertical-align: middle;\n",
       "    }\n",
       "\n",
       "    .dataframe tbody tr th {\n",
       "        vertical-align: top;\n",
       "    }\n",
       "\n",
       "    .dataframe thead th {\n",
       "        text-align: right;\n",
       "    }\n",
       "</style>\n",
       "<table border=\"1\" class=\"dataframe\">\n",
       "  <thead>\n",
       "    <tr style=\"text-align: right;\">\n",
       "      <th></th>\n",
       "      <th>CHR</th>\n",
       "      <th>SNP</th>\n",
       "      <th>BP</th>\n",
       "      <th>CM</th>\n",
       "      <th>MAF</th>\n",
       "      <th>L2</th>\n",
       "    </tr>\n",
       "  </thead>\n",
       "  <tbody>\n",
       "    <tr>\n",
       "      <td>0</td>\n",
       "      <td>1</td>\n",
       "      <td>rs12565286</td>\n",
       "      <td>721290</td>\n",
       "      <td>0.410292</td>\n",
       "      <td>0.043536</td>\n",
       "      <td>1.244134</td>\n",
       "    </tr>\n",
       "    <tr>\n",
       "      <td>1</td>\n",
       "      <td>1</td>\n",
       "      <td>rs3094315</td>\n",
       "      <td>752566</td>\n",
       "      <td>0.488776</td>\n",
       "      <td>0.163588</td>\n",
       "      <td>6.408547</td>\n",
       "    </tr>\n",
       "    <tr>\n",
       "      <td>2</td>\n",
       "      <td>1</td>\n",
       "      <td>rs3131972</td>\n",
       "      <td>752721</td>\n",
       "      <td>0.488868</td>\n",
       "      <td>0.167546</td>\n",
       "      <td>6.282501</td>\n",
       "    </tr>\n",
       "    <tr>\n",
       "      <td>3</td>\n",
       "      <td>1</td>\n",
       "      <td>rs3131969</td>\n",
       "      <td>754182</td>\n",
       "      <td>0.489734</td>\n",
       "      <td>0.133245</td>\n",
       "      <td>6.251752</td>\n",
       "    </tr>\n",
       "    <tr>\n",
       "      <td>4</td>\n",
       "      <td>1</td>\n",
       "      <td>rs1048488</td>\n",
       "      <td>760912</td>\n",
       "      <td>0.492507</td>\n",
       "      <td>0.203166</td>\n",
       "      <td>6.482785</td>\n",
       "    </tr>\n",
       "  </tbody>\n",
       "</table>\n",
       "</div>"
      ],
      "text/plain": [
       "  CHR         SNP      BP        CM       MAF        L2\n",
       "0   1  rs12565286  721290  0.410292  0.043536  1.244134\n",
       "1   1   rs3094315  752566  0.488776  0.163588  6.408547\n",
       "2   1   rs3131972  752721  0.488868  0.167546  6.282501\n",
       "3   1   rs3131969  754182  0.489734  0.133245  6.251752\n",
       "4   1   rs1048488  760912  0.492507  0.203166  6.482785"
      ]
     },
     "execution_count": 49,
     "metadata": {},
     "output_type": "execute_result"
    }
   ],
   "source": [
    "snp.head()"
   ]
  },
  {
   "cell_type": "code",
   "execution_count": 100,
   "metadata": {},
   "outputs": [],
   "source": [
    "# Reading Number of Loci\n",
    "files_M = glob.glob(f\"{ldscore_path}/*[0-9].l2.M_5_50\")\n",
    "nloci = pd.DataFrame(columns = [\"M\", \"CHR\"])\n",
    "\n",
    "for file in files_M:\n",
    "    \n",
    "    if len(file) == 87:\n",
    "        chromosome = int(file[-11])\n",
    "    else:\n",
    "        chromosome = int(file[-12:-10])\n",
    "    \n",
    "    nloci_i = pd.DataFrame({\"M\" : [M(file[:-10])[0, 0]],\n",
    "                             \"CHR\" : [chromosome]})\n",
    "    \n",
    "    nloci = pd.concat([nloci, nloci_i])\n",
    "\n",
    "nloci = nloci.reset_index(drop = True)"
   ]
  },
  {
   "cell_type": "code",
   "execution_count": 102,
   "metadata": {},
   "outputs": [],
   "source": [
    "snp = snp.merge(nloci, how = \"left\", on = \"CHR\")"
   ]
  }
 ],
 "metadata": {
  "kernelspec": {
   "display_name": "Python 3",
   "language": "python",
   "name": "python3"
  },
  "language_info": {
   "codemirror_mode": {
    "name": "ipython",
    "version": 3
   },
   "file_extension": ".py",
   "mimetype": "text/x-python",
   "name": "python",
   "nbconvert_exporter": "python",
   "pygments_lexer": "ipython3",
   "version": "3.7.4"
  }
 },
 "nbformat": 4,
 "nbformat_minor": 4
}
