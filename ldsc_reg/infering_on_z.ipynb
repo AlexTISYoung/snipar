{
 "cells": [
  {
   "cell_type": "code",
   "execution_count": 1,
   "metadata": {},
   "outputs": [
    {
     "data": {
      "text/plain": [
       "<module 'sib_ldsc_z' from '/disk/homedirs/nber/harij/gitrepos/SNIPar/ldsc_reg/sib_ldsc_z.py'>"
      ]
     },
     "execution_count": 1,
     "metadata": {},
     "output_type": "execute_result"
    }
   ],
   "source": [
    "import numpy as np\n",
    "import sib_ldsc_z as ld\n",
    "from scipy.optimize import minimize\n",
    "from scipy.special import comb\n",
    "from scipy.misc import derivative\n",
    "import scipy.stats\n",
    "from importlib import reload\n",
    "import matplotlib.pyplot as plt\n",
    "import seaborn as sns\n",
    "import glob\n",
    "import datetime\n",
    "import multiprocessing\n",
    "# import numdifftools as nd\n",
    "reload(ld)"
   ]
  },
  {
   "cell_type": "code",
   "execution_count": 2,
   "metadata": {},
   "outputs": [
    {
     "name": "stdout",
     "output_type": "stream",
     "text": [
      "Warning there is no value for z. Maybe consider simulating it\n",
      "No value for U given. Generating a vector of ones (all SNPs weighted equally)\n",
      "No value for LD Scores given. Generating a vector of ones for l\n",
      "Warning: No value given for allele frequencies. Some parameters won't be normalized.\n",
      "No value for effective number of loci is given. Using total number of loci instead\n",
      "Simulated LD scores!\n"
     ]
    }
   ],
   "source": [
    "np.random.seed(123)\n",
    "\n",
    "N = int(1e4)\n",
    "S = np.array([[[1., -0.5], [-0.5, 1.]]] * N)/N\n",
    "V = np.array([[0.5, 0.25], [0.25, 0.5]])\n",
    "\n",
    "model = ld.sibreg(S = S)\n",
    "model.simdata(V/N, N, simld = True)"
   ]
  },
  {
   "cell_type": "code",
   "execution_count": 3,
   "metadata": {
    "tags": []
   },
   "outputs": [
    {
     "name": "stdout",
     "output_type": "stream",
     "text": [
      "No initial guess provided.\n",
      "Making Method of Moments Guess\n",
      "Initial estimate: [1.55430175 1.47910632 0.53409088]\n",
      "CPU times: user 10.8 s, sys: 103 ms, total: 10.9 s\n",
      "Wall time: 11 s\n",
      "      fun: 37189.05234762325\n",
      " hess_inv: <3x3 LbfgsInvHessProduct with dtype=float64>\n",
      "      jac: array([-0.02739723, -0.02879562, -0.00672324])\n",
      "  message: b'CONVERGENCE: REL_REDUCTION_OF_F_<=_FACTR*EPSMCH'\n",
      "     nfev: 11\n",
      "      nit: 8\n",
      "   status: 0\n",
      "  success: True\n",
      "        x: array([0.51801607, 0.49264674, 0.53215414])\n"
     ]
    },
    {
     "name": "stderr",
     "output_type": "stream",
     "text": [
      "/disk/homedirs/nber/harij/gitrepos/SNIPar/ldsc_reg/sib_ldsc_z.py:556: RuntimeWarning: invalid value encountered in sqrt\n",
      "  std_err_mat = np.sqrt(invH)\n"
     ]
    }
   ],
   "source": [
    "# solving\n",
    "%time output, result = model.solve()\n",
    "print(result)"
   ]
  },
  {
   "cell_type": "code",
   "execution_count": 4,
   "metadata": {},
   "outputs": [
    {
     "data": {
      "text/plain": [
       "{'v1': 0.5180160703428224,\n",
       " 'v2': 0.4926467370660002,\n",
       " 'r': 0.5321541425848505,\n",
       " 'std_err_mat': array([[0.01221355, 0.00124924,        nan],\n",
       "        [0.00124924, 0.01186258,        nan],\n",
       "        [       nan,        nan, 0.01696686]])}"
      ]
     },
     "execution_count": 4,
     "metadata": {},
     "output_type": "execute_result"
    }
   ],
   "source": [
    "output"
   ]
  },
  {
   "cell_type": "markdown",
   "metadata": {},
   "source": [
    "# Exploring JKSE"
   ]
  },
  {
   "cell_type": "code",
   "execution_count": 27,
   "metadata": {
    "collapsed": true,
    "jupyter": {
     "outputs_hidden": true
    }
   },
   "outputs": [
    {
     "name": "stdout",
     "output_type": "stream",
     "text": [
      "Initial estimate: [0.51801607 0.49264674 0.53215414]\n",
      "Initial estimate: [0.51801607 0.49264674 0.53215414]\n",
      "Initial estimate: [0.51801607 0.49264674 0.53215414]\n",
      "Initial estimate: [0.51801607 0.49264674 0.53215414]\n",
      "Initial estimate: [0.51801607 0.49264674 0.53215414]\n",
      "Initial estimate: [0.51801607 0.49264674 0.53215414]\n",
      "Initial estimate: [0.51801607 0.49264674 0.53215414]\n",
      "Initial estimate: [0.51801607 0.49264674 0.53215414]\n",
      "Initial estimate: [0.51801607 0.49264674 0.53215414]\n",
      "Initial estimate: [0.51801607 0.49264674 0.53215414]\n",
      "Initial estimate: [0.51801607 0.49264674 0.53215414]\n",
      "Initial estimate: [0.51801607 0.49264674 0.53215414]\n",
      "Initial estimate: [0.51801607 0.49264674 0.53215414]\n",
      "Initial estimate: [0.51801607 0.49264674 0.53215414]\n",
      "Initial estimate: [0.51801607 0.49264674 0.53215414]\n",
      "Initial estimate: [0.51801607 0.49264674 0.53215414]\n",
      "Initial estimate: [0.51801607 0.49264674 0.53215414]\n",
      "Initial estimate: [0.51801607 0.49264674 0.53215414]\n",
      "Initial estimate: [0.51801607 0.49264674 0.53215414]\n",
      "Initial estimate: [0.51801607 0.49264674 0.53215414]\n",
      "Initial estimate: [0.51801607 0.49264674 0.53215414]\n",
      "Initial estimate: [0.51801607 0.49264674 0.53215414]\n",
      "Initial estimate: [0.51801607 0.49264674 0.53215414]\n",
      "Initial estimate: [0.51801607 0.49264674 0.53215414]\n",
      "Initial estimate: [0.51801607 0.49264674 0.53215414]\n",
      "Initial estimate: [0.51801607 0.49264674 0.53215414]\n",
      "Initial estimate: [0.51801607 0.49264674 0.53215414]\n",
      "Initial estimate: [0.51801607 0.49264674 0.53215414]\n",
      "Initial estimate: [0.51801607 0.49264674 0.53215414]\n",
      "Initial estimate: [0.51801607 0.49264674 0.53215414]\n",
      "Initial estimate: [0.51801607 0.49264674 0.53215414]\n",
      "Initial estimate: [0.51801607 0.49264674 0.53215414]\n",
      "Initial estimate: [0.51801607 0.49264674 0.53215414]\n",
      "Initial estimate: [0.51801607 0.49264674 0.53215414]\n",
      "Initial estimate: [0.51801607 0.49264674 0.53215414]\n",
      "Initial estimate: [0.51801607 0.49264674 0.53215414]\n",
      "Initial estimate: [0.51801607 0.49264674 0.53215414]\n",
      "Initial estimate: [0.51801607 0.49264674 0.53215414]\n",
      "Initial estimate: [0.51801607 0.49264674 0.53215414]\n",
      "Initial estimate: [0.51801607 0.49264674 0.53215414]\n",
      "Initial estimate: [0.51801607 0.49264674 0.53215414]\n",
      "Initial estimate: [0.51801607 0.49264674 0.53215414]\n",
      "Initial estimate: [0.51801607 0.49264674 0.53215414]\n",
      "Initial estimate: [0.51801607 0.49264674 0.53215414]\n",
      "Initial estimate: [0.51801607 0.49264674 0.53215414]\n",
      "Initial estimate: [0.51801607 0.49264674 0.53215414]\n",
      "Initial estimate: [0.51801607 0.49264674 0.53215414]\n",
      "Initial estimate: [0.51801607 0.49264674 0.53215414]\n",
      "Initial estimate: [0.51801607 0.49264674 0.53215414]\n",
      "Initial estimate: [0.51801607 0.49264674 0.53215414]\n",
      "Initial estimate: [0.51801607 0.49264674 0.53215414]\n",
      "Initial estimate: [0.51801607 0.49264674 0.53215414]\n",
      "Initial estimate: [0.51801607 0.49264674 0.53215414]\n",
      "Initial estimate: [0.51801607 0.49264674 0.53215414]\n",
      "Initial estimate: [0.51801607 0.49264674 0.53215414]\n",
      "Initial estimate: [0.51801607 0.49264674 0.53215414]\n",
      "Initial estimate: [0.51801607 0.49264674 0.53215414]\n",
      "Initial estimate: [0.51801607 0.49264674 0.53215414]\n",
      "Initial estimate: [0.51801607 0.49264674 0.53215414]\n",
      "Initial estimate: [0.51801607 0.49264674 0.53215414]\n",
      "Initial estimate: [0.51801607 0.49264674 0.53215414]\n",
      "Initial estimate: [0.51801607 0.49264674 0.53215414]\n",
      "Initial estimate: [0.51801607 0.49264674 0.53215414]\n",
      "Initial estimate: [0.51801607 0.49264674 0.53215414]\n",
      "Initial estimate: [0.51801607 0.49264674 0.53215414]\n",
      "Initial estimate: [0.51801607 0.49264674 0.53215414]\n",
      "Initial estimate: [0.51801607 0.49264674 0.53215414]\n",
      "Initial estimate: [0.51801607 0.49264674 0.53215414]\n",
      "Initial estimate: [0.51801607 0.49264674 0.53215414]\n",
      "Initial estimate: [0.51801607 0.49264674 0.53215414]\n",
      "Initial estimate: [0.51801607 0.49264674 0.53215414]\n",
      "Initial estimate: [0.51801607 0.49264674 0.53215414]\n",
      "Initial estimate: [0.51801607 0.49264674 0.53215414]\n",
      "Initial estimate: [0.51801607 0.49264674 0.53215414]\n",
      "Initial estimate: [0.51801607 0.49264674 0.53215414]\n",
      "Initial estimate: [0.51801607 0.49264674 0.53215414]\n",
      "Initial estimate: [0.51801607 0.49264674 0.53215414]\n",
      "Initial estimate: [0.51801607 0.49264674 0.53215414]\n",
      "Initial estimate: [0.51801607 0.49264674 0.53215414]\n",
      "Initial estimate: [0.51801607 0.49264674 0.53215414]\n",
      "Initial estimate: [0.51801607 0.49264674 0.53215414]\n",
      "Initial estimate: [0.51801607 0.49264674 0.53215414]\n",
      "Initial estimate: [0.51801607 0.49264674 0.53215414]\n",
      "Initial estimate: [0.51801607 0.49264674 0.53215414]\n",
      "Initial estimate: [0.51801607 0.49264674 0.53215414]\n",
      "Initial estimate: [0.51801607 0.49264674 0.53215414]\n",
      "Initial estimate: [0.51801607 0.49264674 0.53215414]\n",
      "Initial estimate: [0.51801607 0.49264674 0.53215414]\n",
      "Initial estimate: [0.51801607 0.49264674 0.53215414]\n",
      "Initial estimate: [0.51801607 0.49264674 0.53215414]\n",
      "Initial estimate: [0.51801607 0.49264674 0.53215414]\n",
      "Initial estimate: [0.51801607 0.49264674 0.53215414]\n",
      "Initial estimate: [0.51801607 0.49264674 0.53215414]\n",
      "Initial estimate: [0.51801607 0.49264674 0.53215414]\n",
      "Initial estimate: [0.51801607 0.49264674 0.53215414]\n",
      "Initial estimate: [0.51801607 0.49264674 0.53215414]\n",
      "Initial estimate: [0.51801607 0.49264674 0.53215414]\n",
      "Initial estimate: [0.51801607 0.49264674 0.53215414]\n",
      "Initial estimate: [0.51801607 0.49264674 0.53215414]\n",
      "Initial estimate: [0.51801607 0.49264674 0.53215414]\n"
     ]
    }
   ],
   "source": [
    "from functools import partial\n",
    "import multiprocessing as mp\n",
    "\n",
    "blocksize = 100\n",
    "nblocks = int(np.ceil(model.z.shape[0]/blocksize))\n",
    "indices = list(range(model.z.shape[0]))\n",
    "index_blocks = [indices[i * blocksize:(i + 1) * blocksize] for i in range((len(indices) + blocksize - 1) // blocksize )]\n",
    "\n",
    "full_est = np.array([output['v1'], output['v2'], output['r']])\n",
    "\n",
    "jkse_toparallelize = partial(ld.jkse_core, model = model, full_est = full_est, rbounds = True)\n",
    "\n",
    "num_procs = 4\n",
    "pool = mp.Pool(num_procs)\n",
    "estimates_jk = pool.map(jkse_toparallelize, index_blocks)\n",
    "estimates_jk = np.array(estimates_jk)\n"
   ]
  },
  {
   "cell_type": "code",
   "execution_count": 5,
   "metadata": {},
   "outputs": [
    {
     "name": "stdout",
     "output_type": "stream",
     "text": [
      "CPU times: user 47.9 ms, sys: 88.1 ms, total: 136 ms\n",
      "Wall time: 45.5 s\n"
     ]
    },
    {
     "data": {
      "text/plain": [
       "array([0.0124199 , 0.0115014 , 0.01816286])"
      ]
     },
     "execution_count": 5,
     "metadata": {},
     "output_type": "execute_result"
    }
   ],
   "source": [
    "%time ld.jkse(model, output, blocksize = 100, num_procs=4)"
   ]
  },
  {
   "cell_type": "code",
   "execution_count": null,
   "metadata": {},
   "outputs": [],
   "source": [
    "print(\"Real Parameters:\")\n",
    "print(f\"v1 = {V[0, 0]}\")\n",
    "print(f\"v2 = {V[1, 1]}\")\n",
    "print(f\"r = {V[0, 1]/np.sqrt(V[0, 0] * V[1, 1])}\")"
   ]
  },
  {
   "cell_type": "code",
   "execution_count": 141,
   "metadata": {},
   "outputs": [],
   "source": [
    "# Is our hessian calculation corect?\n",
    "def grad_func(x, z, S, l, M):\n",
    "    \n",
    "    return ld._log_ll(x, z, S, l, M)\n",
    "\n",
    "hess = nd.Hessian(grad_func, method = 'forward', order = 1)"
   ]
  },
  {
   "cell_type": "code",
   "execution_count": 147,
   "metadata": {},
   "outputs": [],
   "source": [
    "auto_hess = np.zeros((N, 3, 3))\n",
    "ld_hess = np.zeros((N, 3, 3))\n",
    "\n",
    "for i in range(N):\n",
    "    \n",
    "    auto_hess[i, ...] = hess(ld.Vmat2V(V/N, N), model.z[i, :], model.S[i],  model.l[i], N)\n",
    "    ld_hess[i, ...] = ld._num_grad2_V(ld.Vmat2V(V/N, N), model.z[i, :], model.S[i],  model.l[i], N)"
   ]
  },
  {
   "cell_type": "code",
   "execution_count": 162,
   "metadata": {},
   "outputs": [
    {
     "data": {
      "text/plain": [
       "False"
      ]
     },
     "execution_count": 162,
     "metadata": {},
     "output_type": "execute_result"
    }
   ],
   "source": [
    "np.allclose(auto_hess, ld_hess)"
   ]
  },
  {
   "cell_type": "code",
   "execution_count": 192,
   "metadata": {},
   "outputs": [
    {
     "data": {
      "text/plain": [
       "array([-0.01496565,  0.00862654, -0.00519013,  0.00073447, -0.00347731,\n",
       "       -0.00391454, -0.00086705, -0.00121099,  0.00191262,  0.00943349,\n",
       "       -0.01003163,  0.00586218,  0.00266593,  0.00212742, -0.00518481,\n",
       "       -0.00357876, -0.00068479, -0.00031514, -0.00090993, -0.00344546,\n",
       "        0.00294631, -0.00095322, -0.00128309,  0.00224753, -0.01139669,\n",
       "       -0.016576  , -0.0016433 ,  0.00069306])"
      ]
     },
     "execution_count": 192,
     "metadata": {},
     "output_type": "execute_result"
    }
   ],
   "source": [
    "auto_hess[np.where(~np.isclose(auto_hess, ld_hess))]"
   ]
  },
  {
   "cell_type": "code",
   "execution_count": 193,
   "metadata": {},
   "outputs": [
    {
     "data": {
      "text/plain": [
       "array([-0.01496547,  0.00862669, -0.00518997,  0.00073446, -0.00347724,\n",
       "       -0.00391443, -0.00086702, -0.00121096,  0.00191266,  0.00943363,\n",
       "       -0.01003152,  0.00586228,  0.00266601,  0.00212747, -0.00518474,\n",
       "       -0.00357864, -0.00068477, -0.00031504, -0.00090986, -0.00344541,\n",
       "        0.00294636, -0.00095318, -0.00128303,  0.00224762, -0.01139657,\n",
       "       -0.01657573, -0.00164326,  0.0006931 ])"
      ]
     },
     "execution_count": 193,
     "metadata": {},
     "output_type": "execute_result"
    }
   ],
   "source": [
    "ld_hess[np.where(~np.isclose(auto_hess, ld_hess))]"
   ]
  },
  {
   "cell_type": "code",
   "execution_count": 189,
   "metadata": {},
   "outputs": [
    {
     "data": {
      "image/png": "[encoded data removed]",
      "text/plain": [
       "<Figure size 432x288 with 1 Axes>"
      ]
     },
     "metadata": {
      "needs_background": "light"
     },
     "output_type": "display_data"
    }
   ],
   "source": [
    "gridsize = 100\n",
    "v1grid = np.linspace(output_est[0] - 0.1, output_est[0] + 0.1, gridsize)\n",
    "hessv1 = np.zeros(gridsize)\n",
    "\n",
    "for i in range(gridsize):\n",
    "    \n",
    "    hessv1[i] = ld.get_hessian(np.array([v1grid[i], output_est[1], output_est[2]]),\n",
    "                           model.z, model.S, model.l, model.u, model.f, model.M)[0, 0]\n",
    "    \n",
    "fig, ax = plt.subplots()\n",
    "ax.plot(hessv1)\n",
    "plt.show()"
   ]
  },
  {
   "cell_type": "code",
   "execution_count": 190,
   "metadata": {},
   "outputs": [
    {
     "data": {
      "image/png": "[encoded data removed]",
      "text/plain": [
       "<Figure size 432x288 with 1 Axes>"
      ]
     },
     "metadata": {
      "needs_background": "light"
     },
     "output_type": "display_data"
    }
   ],
   "source": [
    "gridsize = 100\n",
    "v2grid = np.linspace(output_est[1] - 0.1, output_est[1] + 0.1, gridsize)\n",
    "hessv2 = np.zeros(gridsize)\n",
    "\n",
    "for i in range(gridsize):\n",
    "    \n",
    "    hessv2[i] = ld.get_hessian(np.array([output_est[0], v2grid[i], output_est[2]]),\n",
    "                           model.z, model.S, model.l, model.u, model.f, model.M)[1, 1]\n",
    "    \n",
    "fig, ax = plt.subplots()\n",
    "ax.plot(hessv2)\n",
    "plt.show()"
   ]
  },
  {
   "cell_type": "code",
   "execution_count": 191,
   "metadata": {
    "jupyter": {
     "source_hidden": true
    }
   },
   "outputs": [
    {
     "data": {
      "image/png": "[encoded data removed]",
      "text/plain": [
       "<Figure size 432x288 with 1 Axes>"
      ]
     },
     "metadata": {
      "needs_background": "light"
     },
     "output_type": "display_data"
    }
   ],
   "source": [
    "gridsize = 100\n",
    "rgrid = np.linspace(output_est[2] - 0.1, output_est[2] + 0.1, gridsize)\n",
    "hessr = np.zeros(gridsize)\n",
    "\n",
    "for i in range(gridsize):\n",
    "    \n",
    "    hessr[i] = ld.get_hessian(np.array([output_est[0], output_est[1], rgrid[i]]),\n",
    "                           model.z, model.S, model.l, model.u, model.f, model.M)[2, 2]\n",
    "    \n",
    "fig, ax = plt.subplots()\n",
    "ax.plot(hessr)\n",
    "plt.show()"
   ]
  },
  {
   "cell_type": "code",
   "execution_count": null,
   "metadata": {},
   "outputs": [],
   "source": [
    "ld._num_grad2_V"
   ]
  }
 ],
 "metadata": {
  "kernelspec": {
   "display_name": "Python 3",
   "language": "python",
   "name": "python3"
  },
  "language_info": {
   "codemirror_mode": {
    "name": "ipython",
    "version": 3
   },
   "file_extension": ".py",
   "mimetype": "text/x-python",
   "name": "python",
   "nbconvert_exporter": "python",
   "pygments_lexer": "ipython3",
   "version": "3.7.6"
  }
 },
 "nbformat": 4,
 "nbformat_minor": 4
}
